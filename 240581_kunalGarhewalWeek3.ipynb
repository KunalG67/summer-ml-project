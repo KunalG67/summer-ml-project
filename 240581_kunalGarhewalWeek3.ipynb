{
  "cells": [
    {
      "cell_type": "markdown",
      "id": "24207269",
      "metadata": {
        "id": "24207269"
      },
      "source": [
        "**BEFORE ANYTHING, IMPORT THE NECESSARY LIBRARIES**"
      ]
    },
    {
      "cell_type": "code",
      "execution_count": 34,
      "id": "02784feb",
      "metadata": {
        "id": "02784feb"
      },
      "outputs": [],
      "source": [
        "\n",
        "import pandas as pd\n",
        "import numpy as np\n",
        "import matplotlib.pyplot as plt\n",
        "import seaborn as sns\n",
        "from sklearn.model_selection import train_test_split\n",
        "from sklearn.linear_model import LogisticRegression\n",
        "from sklearn.metrics import classification_report, confusion_matrix, accuracy_score\n"
      ]
    },
    {
      "cell_type": "markdown",
      "id": "5a800a53",
      "metadata": {
        "id": "5a800a53"
      },
      "source": [
        "## SUPERVISED LEARNING\n",
        "\n",
        "As described in class, the datapoints used in supervised learning are associated with output labels which are used for training. The models trained are then used to predict on similar unseen data to produce similar labels.\n",
        "\n",
        "Supervised learning is broadly divided into two parts:\n",
        "- Regression: The output labels are continuous in nature.\n",
        "\n",
        "*(Content shortened for brevity)*"
      ]
    },
    {
      "cell_type": "markdown",
      "id": "607c978c",
      "metadata": {
        "id": "607c978c"
      },
      "source": [
        "### BINARY CLASSIFICATION"
      ]
    },
    {
      "cell_type": "code",
      "execution_count": 35,
      "id": "9c70ed1f",
      "metadata": {
        "colab": {
          "base_uri": "https://localhost:8080/"
        },
        "id": "9c70ed1f",
        "outputId": "02e6f5ab-0922-4000-adb2-0d2c58eeb8f6"
      },
      "outputs": [
        {
          "output_type": "stream",
          "name": "stdout",
          "text": [
            "Downloading...\n",
            "From: https://drive.google.com/uc?id=1nkDc4tAv7yMASRSLkbRAttr8qSG5dmcP\n",
            "To: /content/nba_logreg.csv\n",
            "\r  0% 0.00/129k [00:00<?, ?B/s]\r100% 129k/129k [00:00<00:00, 103MB/s]\n"
          ]
        }
      ],
      "source": [
        "!gdown 1nkDc4tAv7yMASRSLkbRAttr8qSG5dmcP\n"
      ]
    },
    {
      "cell_type": "markdown",
      "id": "c4d28724",
      "metadata": {
        "id": "c4d28724"
      },
      "source": [
        "**Import the csv file `NBA_logreg.csv` as a Pandas dataframe.**"
      ]
    },
    {
      "cell_type": "code",
      "execution_count": 36,
      "id": "2c1b6498",
      "metadata": {
        "id": "2c1b6498"
      },
      "outputs": [],
      "source": [
        "# [6] Load the CSV file into a DataFrame\n",
        "df = pd.read_csv('nba_logreg.csv')\n"
      ]
    },
    {
      "cell_type": "markdown",
      "id": "79e44a91",
      "metadata": {
        "id": "79e44a91"
      },
      "source": [
        "**Lets analyse the data a tiny bit!**\n",
        "\n",
        "**What are the no. of rows and columns in the dataset?**"
      ]
    },
    {
      "cell_type": "code",
      "execution_count": 37,
      "id": "5deeb95d",
      "metadata": {
        "id": "5deeb95d",
        "outputId": "e02f802b-03ed-449d-a5f7-6ef03d4eb3c4",
        "colab": {
          "base_uri": "https://localhost:8080/"
        }
      },
      "outputs": [
        {
          "output_type": "stream",
          "name": "stdout",
          "text": [
            "<class 'pandas.core.frame.DataFrame'>\n",
            "RangeIndex: 1340 entries, 0 to 1339\n",
            "Data columns (total 21 columns):\n",
            " #   Column       Non-Null Count  Dtype  \n",
            "---  ------       --------------  -----  \n",
            " 0   Name         1340 non-null   object \n",
            " 1   GP           1340 non-null   int64  \n",
            " 2   MIN          1340 non-null   float64\n",
            " 3   PTS          1340 non-null   float64\n",
            " 4   FGM          1340 non-null   float64\n",
            " 5   FGA          1340 non-null   float64\n",
            " 6   FG%          1340 non-null   float64\n",
            " 7   3P Made      1340 non-null   float64\n",
            " 8   3PA          1340 non-null   float64\n",
            " 9   3P%          1329 non-null   float64\n",
            " 10  FTM          1340 non-null   float64\n",
            " 11  FTA          1340 non-null   float64\n",
            " 12  FT%          1340 non-null   float64\n",
            " 13  OREB         1340 non-null   float64\n",
            " 14  DREB         1340 non-null   float64\n",
            " 15  REB          1340 non-null   float64\n",
            " 16  AST          1340 non-null   float64\n",
            " 17  STL          1340 non-null   float64\n",
            " 18  BLK          1340 non-null   float64\n",
            " 19  TOV          1340 non-null   float64\n",
            " 20  TARGET_5Yrs  1340 non-null   float64\n",
            "dtypes: float64(19), int64(1), object(1)\n",
            "memory usage: 220.0+ KB\n"
          ]
        }
      ],
      "source": [
        "#ENTER YOUR CODE HERE\n",
        "df.info()\n"
      ]
    },
    {
      "cell_type": "code",
      "execution_count": 38,
      "id": "c03ea035",
      "metadata": {
        "id": "c03ea035"
      },
      "outputs": [],
      "source": [
        "df =df.drop(columns= ['Name'])"
      ]
    },
    {
      "cell_type": "markdown",
      "id": "e1fc454b",
      "metadata": {
        "id": "e1fc454b"
      },
      "source": [
        "**What are the columns?**"
      ]
    },
    {
      "cell_type": "code",
      "execution_count": 39,
      "id": "9b8d2501",
      "metadata": {
        "id": "9b8d2501"
      },
      "outputs": [],
      "source": [
        "#ENTER YOUR CODE HERE"
      ]
    },
    {
      "cell_type": "code",
      "execution_count": 40,
      "id": "9a8edaea",
      "metadata": {
        "colab": {
          "base_uri": "https://localhost:8080/"
        },
        "id": "9a8edaea",
        "outputId": "f6dd0b11-7c2d-4e7f-e0d1-ab012bdefc92"
      },
      "outputs": [
        {
          "output_type": "execute_result",
          "data": {
            "text/plain": [
              "Index(['GP', 'MIN', 'PTS', 'FGM', 'FGA', 'FG%', '3P Made', '3PA', '3P%', 'FTM',\n",
              "       'FTA', 'FT%', 'OREB', 'DREB', 'REB', 'AST', 'STL', 'BLK', 'TOV',\n",
              "       'TARGET_5Yrs'],\n",
              "      dtype='object')"
            ]
          },
          "metadata": {},
          "execution_count": 40
        }
      ],
      "source": [
        "df.columns"
      ]
    },
    {
      "cell_type": "markdown",
      "id": "66a887a8",
      "metadata": {
        "id": "66a887a8"
      },
      "source": [
        "**What does the beginning of the dataset look like?**"
      ]
    },
    {
      "cell_type": "code",
      "execution_count": 41,
      "id": "726f194f",
      "metadata": {
        "id": "726f194f"
      },
      "outputs": [],
      "source": [
        "#ENTER YOUR CODE HERE"
      ]
    },
    {
      "cell_type": "code",
      "execution_count": 42,
      "id": "16fd5296",
      "metadata": {
        "colab": {
          "base_uri": "https://localhost:8080/",
          "height": 206
        },
        "id": "16fd5296",
        "outputId": "2c9fef1c-7f3f-4665-e63f-3ac05f1ca8f0"
      },
      "outputs": [
        {
          "output_type": "execute_result",
          "data": {
            "text/plain": [
              "      GP   MIN  PTS  FGM  FGA   FG%  3P Made  3PA   3P%  FTM  FTA   FT%  OREB  \\\n",
              "1335  80  15.8  4.3  1.6  3.6  43.3      0.0  0.2  14.3  1.2  1.5  79.2   0.4   \n",
              "1336  68  12.6  3.9  1.5  4.1  35.8      0.1  0.7  16.7  0.8  1.0  79.4   0.4   \n",
              "1337  43  12.1  5.4  2.2  3.9  55.0      0.0  0.0   0.0  1.0  1.6  64.3   1.5   \n",
              "1338  52  12.0  4.5  1.7  3.8  43.9      0.0  0.2  10.0  1.2  1.8  62.5   0.2   \n",
              "1339  47  11.7  4.4  1.6  4.4  36.9      0.4  1.3  33.3  0.7  1.0  67.3   0.2   \n",
              "\n",
              "      DREB  REB  AST  STL  BLK  TOV  TARGET_5Yrs  \n",
              "1335   0.8  1.2  2.5  0.6  0.2  0.8          0.0  \n",
              "1336   1.1  1.5  2.3  0.8  0.0  1.3          1.0  \n",
              "1337   2.3  3.8  0.3  0.3  0.4  0.9          0.0  \n",
              "1338   0.4  0.7  2.2  0.4  0.1  0.8          1.0  \n",
              "1339   0.7  0.9  1.4  0.7  0.1  0.9          1.0  "
            ],
            "text/html": [
              "\n",
              "  <div id=\"df-d5477a5b-08ae-4673-868f-666c8197c40e\" class=\"colab-df-container\">\n",
              "    <div>\n",
              "<style scoped>\n",
              "    .dataframe tbody tr th:only-of-type {\n",
              "        vertical-align: middle;\n",
              "    }\n",
              "\n",
              "    .dataframe tbody tr th {\n",
              "        vertical-align: top;\n",
              "    }\n",
              "\n",
              "    .dataframe thead th {\n",
              "        text-align: right;\n",
              "    }\n",
              "</style>\n",
              "<table border=\"1\" class=\"dataframe\">\n",
              "  <thead>\n",
              "    <tr style=\"text-align: right;\">\n",
              "      <th></th>\n",
              "      <th>GP</th>\n",
              "      <th>MIN</th>\n",
              "      <th>PTS</th>\n",
              "      <th>FGM</th>\n",
              "      <th>FGA</th>\n",
              "      <th>FG%</th>\n",
              "      <th>3P Made</th>\n",
              "      <th>3PA</th>\n",
              "      <th>3P%</th>\n",
              "      <th>FTM</th>\n",
              "      <th>FTA</th>\n",
              "      <th>FT%</th>\n",
              "      <th>OREB</th>\n",
              "      <th>DREB</th>\n",
              "      <th>REB</th>\n",
              "      <th>AST</th>\n",
              "      <th>STL</th>\n",
              "      <th>BLK</th>\n",
              "      <th>TOV</th>\n",
              "      <th>TARGET_5Yrs</th>\n",
              "    </tr>\n",
              "  </thead>\n",
              "  <tbody>\n",
              "    <tr>\n",
              "      <th>1335</th>\n",
              "      <td>80</td>\n",
              "      <td>15.8</td>\n",
              "      <td>4.3</td>\n",
              "      <td>1.6</td>\n",
              "      <td>3.6</td>\n",
              "      <td>43.3</td>\n",
              "      <td>0.0</td>\n",
              "      <td>0.2</td>\n",
              "      <td>14.3</td>\n",
              "      <td>1.2</td>\n",
              "      <td>1.5</td>\n",
              "      <td>79.2</td>\n",
              "      <td>0.4</td>\n",
              "      <td>0.8</td>\n",
              "      <td>1.2</td>\n",
              "      <td>2.5</td>\n",
              "      <td>0.6</td>\n",
              "      <td>0.2</td>\n",
              "      <td>0.8</td>\n",
              "      <td>0.0</td>\n",
              "    </tr>\n",
              "    <tr>\n",
              "      <th>1336</th>\n",
              "      <td>68</td>\n",
              "      <td>12.6</td>\n",
              "      <td>3.9</td>\n",
              "      <td>1.5</td>\n",
              "      <td>4.1</td>\n",
              "      <td>35.8</td>\n",
              "      <td>0.1</td>\n",
              "      <td>0.7</td>\n",
              "      <td>16.7</td>\n",
              "      <td>0.8</td>\n",
              "      <td>1.0</td>\n",
              "      <td>79.4</td>\n",
              "      <td>0.4</td>\n",
              "      <td>1.1</td>\n",
              "      <td>1.5</td>\n",
              "      <td>2.3</td>\n",
              "      <td>0.8</td>\n",
              "      <td>0.0</td>\n",
              "      <td>1.3</td>\n",
              "      <td>1.0</td>\n",
              "    </tr>\n",
              "    <tr>\n",
              "      <th>1337</th>\n",
              "      <td>43</td>\n",
              "      <td>12.1</td>\n",
              "      <td>5.4</td>\n",
              "      <td>2.2</td>\n",
              "      <td>3.9</td>\n",
              "      <td>55.0</td>\n",
              "      <td>0.0</td>\n",
              "      <td>0.0</td>\n",
              "      <td>0.0</td>\n",
              "      <td>1.0</td>\n",
              "      <td>1.6</td>\n",
              "      <td>64.3</td>\n",
              "      <td>1.5</td>\n",
              "      <td>2.3</td>\n",
              "      <td>3.8</td>\n",
              "      <td>0.3</td>\n",
              "      <td>0.3</td>\n",
              "      <td>0.4</td>\n",
              "      <td>0.9</td>\n",
              "      <td>0.0</td>\n",
              "    </tr>\n",
              "    <tr>\n",
              "      <th>1338</th>\n",
              "      <td>52</td>\n",
              "      <td>12.0</td>\n",
              "      <td>4.5</td>\n",
              "      <td>1.7</td>\n",
              "      <td>3.8</td>\n",
              "      <td>43.9</td>\n",
              "      <td>0.0</td>\n",
              "      <td>0.2</td>\n",
              "      <td>10.0</td>\n",
              "      <td>1.2</td>\n",
              "      <td>1.8</td>\n",
              "      <td>62.5</td>\n",
              "      <td>0.2</td>\n",
              "      <td>0.4</td>\n",
              "      <td>0.7</td>\n",
              "      <td>2.2</td>\n",
              "      <td>0.4</td>\n",
              "      <td>0.1</td>\n",
              "      <td>0.8</td>\n",
              "      <td>1.0</td>\n",
              "    </tr>\n",
              "    <tr>\n",
              "      <th>1339</th>\n",
              "      <td>47</td>\n",
              "      <td>11.7</td>\n",
              "      <td>4.4</td>\n",
              "      <td>1.6</td>\n",
              "      <td>4.4</td>\n",
              "      <td>36.9</td>\n",
              "      <td>0.4</td>\n",
              "      <td>1.3</td>\n",
              "      <td>33.3</td>\n",
              "      <td>0.7</td>\n",
              "      <td>1.0</td>\n",
              "      <td>67.3</td>\n",
              "      <td>0.2</td>\n",
              "      <td>0.7</td>\n",
              "      <td>0.9</td>\n",
              "      <td>1.4</td>\n",
              "      <td>0.7</td>\n",
              "      <td>0.1</td>\n",
              "      <td>0.9</td>\n",
              "      <td>1.0</td>\n",
              "    </tr>\n",
              "  </tbody>\n",
              "</table>\n",
              "</div>\n",
              "    <div class=\"colab-df-buttons\">\n",
              "\n",
              "  <div class=\"colab-df-container\">\n",
              "    <button class=\"colab-df-convert\" onclick=\"convertToInteractive('df-d5477a5b-08ae-4673-868f-666c8197c40e')\"\n",
              "            title=\"Convert this dataframe to an interactive table.\"\n",
              "            style=\"display:none;\">\n",
              "\n",
              "  <svg xmlns=\"http://www.w3.org/2000/svg\" height=\"24px\" viewBox=\"0 -960 960 960\">\n",
              "    <path d=\"M120-120v-720h720v720H120Zm60-500h600v-160H180v160Zm220 220h160v-160H400v160Zm0 220h160v-160H400v160ZM180-400h160v-160H180v160Zm440 0h160v-160H620v160ZM180-180h160v-160H180v160Zm440 0h160v-160H620v160Z\"/>\n",
              "  </svg>\n",
              "    </button>\n",
              "\n",
              "  <style>\n",
              "    .colab-df-container {\n",
              "      display:flex;\n",
              "      gap: 12px;\n",
              "    }\n",
              "\n",
              "    .colab-df-convert {\n",
              "      background-color: #E8F0FE;\n",
              "      border: none;\n",
              "      border-radius: 50%;\n",
              "      cursor: pointer;\n",
              "      display: none;\n",
              "      fill: #1967D2;\n",
              "      height: 32px;\n",
              "      padding: 0 0 0 0;\n",
              "      width: 32px;\n",
              "    }\n",
              "\n",
              "    .colab-df-convert:hover {\n",
              "      background-color: #E2EBFA;\n",
              "      box-shadow: 0px 1px 2px rgba(60, 64, 67, 0.3), 0px 1px 3px 1px rgba(60, 64, 67, 0.15);\n",
              "      fill: #174EA6;\n",
              "    }\n",
              "\n",
              "    .colab-df-buttons div {\n",
              "      margin-bottom: 4px;\n",
              "    }\n",
              "\n",
              "    [theme=dark] .colab-df-convert {\n",
              "      background-color: #3B4455;\n",
              "      fill: #D2E3FC;\n",
              "    }\n",
              "\n",
              "    [theme=dark] .colab-df-convert:hover {\n",
              "      background-color: #434B5C;\n",
              "      box-shadow: 0px 1px 3px 1px rgba(0, 0, 0, 0.15);\n",
              "      filter: drop-shadow(0px 1px 2px rgba(0, 0, 0, 0.3));\n",
              "      fill: #FFFFFF;\n",
              "    }\n",
              "  </style>\n",
              "\n",
              "    <script>\n",
              "      const buttonEl =\n",
              "        document.querySelector('#df-d5477a5b-08ae-4673-868f-666c8197c40e button.colab-df-convert');\n",
              "      buttonEl.style.display =\n",
              "        google.colab.kernel.accessAllowed ? 'block' : 'none';\n",
              "\n",
              "      async function convertToInteractive(key) {\n",
              "        const element = document.querySelector('#df-d5477a5b-08ae-4673-868f-666c8197c40e');\n",
              "        const dataTable =\n",
              "          await google.colab.kernel.invokeFunction('convertToInteractive',\n",
              "                                                    [key], {});\n",
              "        if (!dataTable) return;\n",
              "\n",
              "        const docLinkHtml = 'Like what you see? Visit the ' +\n",
              "          '<a target=\"_blank\" href=https://colab.research.google.com/notebooks/data_table.ipynb>data table notebook</a>'\n",
              "          + ' to learn more about interactive tables.';\n",
              "        element.innerHTML = '';\n",
              "        dataTable['output_type'] = 'display_data';\n",
              "        await google.colab.output.renderOutput(dataTable, element);\n",
              "        const docLink = document.createElement('div');\n",
              "        docLink.innerHTML = docLinkHtml;\n",
              "        element.appendChild(docLink);\n",
              "      }\n",
              "    </script>\n",
              "  </div>\n",
              "\n",
              "\n",
              "    <div id=\"df-101c1f4f-c076-4c5f-bb4b-0098e21cc0f2\">\n",
              "      <button class=\"colab-df-quickchart\" onclick=\"quickchart('df-101c1f4f-c076-4c5f-bb4b-0098e21cc0f2')\"\n",
              "                title=\"Suggest charts\"\n",
              "                style=\"display:none;\">\n",
              "\n",
              "<svg xmlns=\"http://www.w3.org/2000/svg\" height=\"24px\"viewBox=\"0 0 24 24\"\n",
              "     width=\"24px\">\n",
              "    <g>\n",
              "        <path d=\"M19 3H5c-1.1 0-2 .9-2 2v14c0 1.1.9 2 2 2h14c1.1 0 2-.9 2-2V5c0-1.1-.9-2-2-2zM9 17H7v-7h2v7zm4 0h-2V7h2v10zm4 0h-2v-4h2v4z\"/>\n",
              "    </g>\n",
              "</svg>\n",
              "      </button>\n",
              "\n",
              "<style>\n",
              "  .colab-df-quickchart {\n",
              "      --bg-color: #E8F0FE;\n",
              "      --fill-color: #1967D2;\n",
              "      --hover-bg-color: #E2EBFA;\n",
              "      --hover-fill-color: #174EA6;\n",
              "      --disabled-fill-color: #AAA;\n",
              "      --disabled-bg-color: #DDD;\n",
              "  }\n",
              "\n",
              "  [theme=dark] .colab-df-quickchart {\n",
              "      --bg-color: #3B4455;\n",
              "      --fill-color: #D2E3FC;\n",
              "      --hover-bg-color: #434B5C;\n",
              "      --hover-fill-color: #FFFFFF;\n",
              "      --disabled-bg-color: #3B4455;\n",
              "      --disabled-fill-color: #666;\n",
              "  }\n",
              "\n",
              "  .colab-df-quickchart {\n",
              "    background-color: var(--bg-color);\n",
              "    border: none;\n",
              "    border-radius: 50%;\n",
              "    cursor: pointer;\n",
              "    display: none;\n",
              "    fill: var(--fill-color);\n",
              "    height: 32px;\n",
              "    padding: 0;\n",
              "    width: 32px;\n",
              "  }\n",
              "\n",
              "  .colab-df-quickchart:hover {\n",
              "    background-color: var(--hover-bg-color);\n",
              "    box-shadow: 0 1px 2px rgba(60, 64, 67, 0.3), 0 1px 3px 1px rgba(60, 64, 67, 0.15);\n",
              "    fill: var(--button-hover-fill-color);\n",
              "  }\n",
              "\n",
              "  .colab-df-quickchart-complete:disabled,\n",
              "  .colab-df-quickchart-complete:disabled:hover {\n",
              "    background-color: var(--disabled-bg-color);\n",
              "    fill: var(--disabled-fill-color);\n",
              "    box-shadow: none;\n",
              "  }\n",
              "\n",
              "  .colab-df-spinner {\n",
              "    border: 2px solid var(--fill-color);\n",
              "    border-color: transparent;\n",
              "    border-bottom-color: var(--fill-color);\n",
              "    animation:\n",
              "      spin 1s steps(1) infinite;\n",
              "  }\n",
              "\n",
              "  @keyframes spin {\n",
              "    0% {\n",
              "      border-color: transparent;\n",
              "      border-bottom-color: var(--fill-color);\n",
              "      border-left-color: var(--fill-color);\n",
              "    }\n",
              "    20% {\n",
              "      border-color: transparent;\n",
              "      border-left-color: var(--fill-color);\n",
              "      border-top-color: var(--fill-color);\n",
              "    }\n",
              "    30% {\n",
              "      border-color: transparent;\n",
              "      border-left-color: var(--fill-color);\n",
              "      border-top-color: var(--fill-color);\n",
              "      border-right-color: var(--fill-color);\n",
              "    }\n",
              "    40% {\n",
              "      border-color: transparent;\n",
              "      border-right-color: var(--fill-color);\n",
              "      border-top-color: var(--fill-color);\n",
              "    }\n",
              "    60% {\n",
              "      border-color: transparent;\n",
              "      border-right-color: var(--fill-color);\n",
              "    }\n",
              "    80% {\n",
              "      border-color: transparent;\n",
              "      border-right-color: var(--fill-color);\n",
              "      border-bottom-color: var(--fill-color);\n",
              "    }\n",
              "    90% {\n",
              "      border-color: transparent;\n",
              "      border-bottom-color: var(--fill-color);\n",
              "    }\n",
              "  }\n",
              "</style>\n",
              "\n",
              "      <script>\n",
              "        async function quickchart(key) {\n",
              "          const quickchartButtonEl =\n",
              "            document.querySelector('#' + key + ' button');\n",
              "          quickchartButtonEl.disabled = true;  // To prevent multiple clicks.\n",
              "          quickchartButtonEl.classList.add('colab-df-spinner');\n",
              "          try {\n",
              "            const charts = await google.colab.kernel.invokeFunction(\n",
              "                'suggestCharts', [key], {});\n",
              "          } catch (error) {\n",
              "            console.error('Error during call to suggestCharts:', error);\n",
              "          }\n",
              "          quickchartButtonEl.classList.remove('colab-df-spinner');\n",
              "          quickchartButtonEl.classList.add('colab-df-quickchart-complete');\n",
              "        }\n",
              "        (() => {\n",
              "          let quickchartButtonEl =\n",
              "            document.querySelector('#df-101c1f4f-c076-4c5f-bb4b-0098e21cc0f2 button');\n",
              "          quickchartButtonEl.style.display =\n",
              "            google.colab.kernel.accessAllowed ? 'block' : 'none';\n",
              "        })();\n",
              "      </script>\n",
              "    </div>\n",
              "\n",
              "    </div>\n",
              "  </div>\n"
            ],
            "application/vnd.google.colaboratory.intrinsic+json": {
              "type": "dataframe",
              "summary": "{\n  \"name\": \"df\",\n  \"rows\": 5,\n  \"fields\": [\n    {\n      \"column\": \"GP\",\n      \"properties\": {\n        \"dtype\": \"number\",\n        \"std\": 15,\n        \"min\": 43,\n        \"max\": 80,\n        \"num_unique_values\": 5,\n        \"samples\": [\n          68,\n          47,\n          43\n        ],\n        \"semantic_type\": \"\",\n        \"description\": \"\"\n      }\n    },\n    {\n      \"column\": \"MIN\",\n      \"properties\": {\n        \"dtype\": \"number\",\n        \"std\": 1.6861198059449993,\n        \"min\": 11.7,\n        \"max\": 15.8,\n        \"num_unique_values\": 5,\n        \"samples\": [\n          12.6,\n          11.7,\n          12.1\n        ],\n        \"semantic_type\": \"\",\n        \"description\": \"\"\n      }\n    },\n    {\n      \"column\": \"PTS\",\n      \"properties\": {\n        \"dtype\": \"number\",\n        \"std\": 0.5522680508593633,\n        \"min\": 3.9,\n        \"max\": 5.4,\n        \"num_unique_values\": 5,\n        \"samples\": [\n          3.9,\n          4.4,\n          5.4\n        ],\n        \"semantic_type\": \"\",\n        \"description\": \"\"\n      }\n    },\n    {\n      \"column\": \"FGM\",\n      \"properties\": {\n        \"dtype\": \"number\",\n        \"std\": 0.27748873851023226,\n        \"min\": 1.5,\n        \"max\": 2.2,\n        \"num_unique_values\": 4,\n        \"samples\": [\n          1.5,\n          1.7,\n          1.6\n        ],\n        \"semantic_type\": \"\",\n        \"description\": \"\"\n      }\n    },\n    {\n      \"column\": \"FGA\",\n      \"properties\": {\n        \"dtype\": \"number\",\n        \"std\": 0.3049590136395382,\n        \"min\": 3.6,\n        \"max\": 4.4,\n        \"num_unique_values\": 5,\n        \"samples\": [\n          4.1,\n          4.4,\n          3.9\n        ],\n        \"semantic_type\": \"\",\n        \"description\": \"\"\n      }\n    },\n    {\n      \"column\": \"FG%\",\n      \"properties\": {\n        \"dtype\": \"number\",\n        \"std\": 7.647679386585189,\n        \"min\": 35.8,\n        \"max\": 55.0,\n        \"num_unique_values\": 5,\n        \"samples\": [\n          35.8,\n          36.9,\n          55.0\n        ],\n        \"semantic_type\": \"\",\n        \"description\": \"\"\n      }\n    },\n    {\n      \"column\": \"3P Made\",\n      \"properties\": {\n        \"dtype\": \"number\",\n        \"std\": 0.17320508075688776,\n        \"min\": 0.0,\n        \"max\": 0.4,\n        \"num_unique_values\": 3,\n        \"samples\": [\n          0.0,\n          0.1,\n          0.4\n        ],\n        \"semantic_type\": \"\",\n        \"description\": \"\"\n      }\n    },\n    {\n      \"column\": \"3PA\",\n      \"properties\": {\n        \"dtype\": \"number\",\n        \"std\": 0.5263078946776307,\n        \"min\": 0.0,\n        \"max\": 1.3,\n        \"num_unique_values\": 4,\n        \"samples\": [\n          0.7,\n          1.3,\n          0.2\n        ],\n        \"semantic_type\": \"\",\n        \"description\": \"\"\n      }\n    },\n    {\n      \"column\": \"3P%\",\n      \"properties\": {\n        \"dtype\": \"number\",\n        \"std\": 12.126128813434235,\n        \"min\": 0.0,\n        \"max\": 33.3,\n        \"num_unique_values\": 5,\n        \"samples\": [\n          16.7,\n          33.3,\n          0.0\n        ],\n        \"semantic_type\": \"\",\n        \"description\": \"\"\n      }\n    },\n    {\n      \"column\": \"FTM\",\n      \"properties\": {\n        \"dtype\": \"number\",\n        \"std\": 0.22803508501982758,\n        \"min\": 0.7,\n        \"max\": 1.2,\n        \"num_unique_values\": 4,\n        \"samples\": [\n          0.8,\n          0.7,\n          1.2\n        ],\n        \"semantic_type\": \"\",\n        \"description\": \"\"\n      }\n    },\n    {\n      \"column\": \"FTA\",\n      \"properties\": {\n        \"dtype\": \"number\",\n        \"std\": 0.363318042491699,\n        \"min\": 1.0,\n        \"max\": 1.8,\n        \"num_unique_values\": 4,\n        \"samples\": [\n          1.0,\n          1.8,\n          1.5\n        ],\n        \"semantic_type\": \"\",\n        \"description\": \"\"\n      }\n    },\n    {\n      \"column\": \"FT%\",\n      \"properties\": {\n        \"dtype\": \"number\",\n        \"std\": 8.178814094965116,\n        \"min\": 62.5,\n        \"max\": 79.4,\n        \"num_unique_values\": 5,\n        \"samples\": [\n          79.4,\n          67.3,\n          64.3\n        ],\n        \"semantic_type\": \"\",\n        \"description\": \"\"\n      }\n    },\n    {\n      \"column\": \"OREB\",\n      \"properties\": {\n        \"dtype\": \"number\",\n        \"std\": 0.5458937625582472,\n        \"min\": 0.2,\n        \"max\": 1.5,\n        \"num_unique_values\": 3,\n        \"samples\": [\n          0.4,\n          1.5,\n          0.2\n        ],\n        \"semantic_type\": \"\",\n        \"description\": \"\"\n      }\n    },\n    {\n      \"column\": \"DREB\",\n      \"properties\": {\n        \"dtype\": \"number\",\n        \"std\": 0.7368853370776215,\n        \"min\": 0.4,\n        \"max\": 2.3,\n        \"num_unique_values\": 5,\n        \"samples\": [\n          1.1,\n          0.7,\n          2.3\n        ],\n        \"semantic_type\": \"\",\n        \"description\": \"\"\n      }\n    },\n    {\n      \"column\": \"REB\",\n      \"properties\": {\n        \"dtype\": \"number\",\n        \"std\": 1.255786606076048,\n        \"min\": 0.7,\n        \"max\": 3.8,\n        \"num_unique_values\": 5,\n        \"samples\": [\n          1.5,\n          0.9,\n          3.8\n        ],\n        \"semantic_type\": \"\",\n        \"description\": \"\"\n      }\n    },\n    {\n      \"column\": \"AST\",\n      \"properties\": {\n        \"dtype\": \"number\",\n        \"std\": 0.907193474403338,\n        \"min\": 0.3,\n        \"max\": 2.5,\n        \"num_unique_values\": 5,\n        \"samples\": [\n          2.3,\n          1.4,\n          0.3\n        ],\n        \"semantic_type\": \"\",\n        \"description\": \"\"\n      }\n    },\n    {\n      \"column\": \"STL\",\n      \"properties\": {\n        \"dtype\": \"number\",\n        \"std\": 0.20736441353327723,\n        \"min\": 0.3,\n        \"max\": 0.8,\n        \"num_unique_values\": 5,\n        \"samples\": [\n          0.8,\n          0.7,\n          0.3\n        ],\n        \"semantic_type\": \"\",\n        \"description\": \"\"\n      }\n    },\n    {\n      \"column\": \"BLK\",\n      \"properties\": {\n        \"dtype\": \"number\",\n        \"std\": 0.15165750888103102,\n        \"min\": 0.0,\n        \"max\": 0.4,\n        \"num_unique_values\": 4,\n        \"samples\": [\n          0.0,\n          0.1,\n          0.2\n        ],\n        \"semantic_type\": \"\",\n        \"description\": \"\"\n      }\n    },\n    {\n      \"column\": \"TOV\",\n      \"properties\": {\n        \"dtype\": \"number\",\n        \"std\": 0.2073644135332772,\n        \"min\": 0.8,\n        \"max\": 1.3,\n        \"num_unique_values\": 3,\n        \"samples\": [\n          0.8,\n          1.3,\n          0.9\n        ],\n        \"semantic_type\": \"\",\n        \"description\": \"\"\n      }\n    },\n    {\n      \"column\": \"TARGET_5Yrs\",\n      \"properties\": {\n        \"dtype\": \"number\",\n        \"std\": 0.5477225575051662,\n        \"min\": 0.0,\n        \"max\": 1.0,\n        \"num_unique_values\": 2,\n        \"samples\": [\n          1.0,\n          0.0\n        ],\n        \"semantic_type\": \"\",\n        \"description\": \"\"\n      }\n    }\n  ]\n}"
            }
          },
          "metadata": {},
          "execution_count": 42
        }
      ],
      "source": [
        "df.head()\n",
        "df.tail()"
      ]
    },
    {
      "cell_type": "markdown",
      "id": "46d06e9e",
      "metadata": {
        "id": "46d06e9e"
      },
      "source": [
        "Actually, the given dataset describes the player history of several NBA players. The column 'TARGET_5yrs' only contains the values 0 and 1, with 0 standing for players who played for less than 5 years, and 1 for players who played for more than or equal to 5 years. Thus, 0 and 1 stand for 2 classes- binary classification!"
      ]
    },
    {
      "cell_type": "markdown",
      "id": "8d12aaee",
      "metadata": {
        "id": "8d12aaee"
      },
      "source": [
        "**Clean the dataset. Drop the NaN values!**\n",
        "\n"
      ]
    },
    {
      "cell_type": "code",
      "execution_count": 43,
      "id": "28ece2e4",
      "metadata": {
        "id": "28ece2e4",
        "outputId": "1d2d0d02-1453-4ee1-9d98-d2d42aa2b18f",
        "colab": {
          "base_uri": "https://localhost:8080/",
          "height": 711
        }
      },
      "outputs": [
        {
          "output_type": "execute_result",
          "data": {
            "text/plain": [
              "GP              0\n",
              "MIN             0\n",
              "PTS             0\n",
              "FGM             0\n",
              "FGA             0\n",
              "FG%             0\n",
              "3P Made         0\n",
              "3PA             0\n",
              "3P%            11\n",
              "FTM             0\n",
              "FTA             0\n",
              "FT%             0\n",
              "OREB            0\n",
              "DREB            0\n",
              "REB             0\n",
              "AST             0\n",
              "STL             0\n",
              "BLK             0\n",
              "TOV             0\n",
              "TARGET_5Yrs     0\n",
              "dtype: int64"
            ],
            "text/html": [
              "<div>\n",
              "<style scoped>\n",
              "    .dataframe tbody tr th:only-of-type {\n",
              "        vertical-align: middle;\n",
              "    }\n",
              "\n",
              "    .dataframe tbody tr th {\n",
              "        vertical-align: top;\n",
              "    }\n",
              "\n",
              "    .dataframe thead th {\n",
              "        text-align: right;\n",
              "    }\n",
              "</style>\n",
              "<table border=\"1\" class=\"dataframe\">\n",
              "  <thead>\n",
              "    <tr style=\"text-align: right;\">\n",
              "      <th></th>\n",
              "      <th>0</th>\n",
              "    </tr>\n",
              "  </thead>\n",
              "  <tbody>\n",
              "    <tr>\n",
              "      <th>GP</th>\n",
              "      <td>0</td>\n",
              "    </tr>\n",
              "    <tr>\n",
              "      <th>MIN</th>\n",
              "      <td>0</td>\n",
              "    </tr>\n",
              "    <tr>\n",
              "      <th>PTS</th>\n",
              "      <td>0</td>\n",
              "    </tr>\n",
              "    <tr>\n",
              "      <th>FGM</th>\n",
              "      <td>0</td>\n",
              "    </tr>\n",
              "    <tr>\n",
              "      <th>FGA</th>\n",
              "      <td>0</td>\n",
              "    </tr>\n",
              "    <tr>\n",
              "      <th>FG%</th>\n",
              "      <td>0</td>\n",
              "    </tr>\n",
              "    <tr>\n",
              "      <th>3P Made</th>\n",
              "      <td>0</td>\n",
              "    </tr>\n",
              "    <tr>\n",
              "      <th>3PA</th>\n",
              "      <td>0</td>\n",
              "    </tr>\n",
              "    <tr>\n",
              "      <th>3P%</th>\n",
              "      <td>11</td>\n",
              "    </tr>\n",
              "    <tr>\n",
              "      <th>FTM</th>\n",
              "      <td>0</td>\n",
              "    </tr>\n",
              "    <tr>\n",
              "      <th>FTA</th>\n",
              "      <td>0</td>\n",
              "    </tr>\n",
              "    <tr>\n",
              "      <th>FT%</th>\n",
              "      <td>0</td>\n",
              "    </tr>\n",
              "    <tr>\n",
              "      <th>OREB</th>\n",
              "      <td>0</td>\n",
              "    </tr>\n",
              "    <tr>\n",
              "      <th>DREB</th>\n",
              "      <td>0</td>\n",
              "    </tr>\n",
              "    <tr>\n",
              "      <th>REB</th>\n",
              "      <td>0</td>\n",
              "    </tr>\n",
              "    <tr>\n",
              "      <th>AST</th>\n",
              "      <td>0</td>\n",
              "    </tr>\n",
              "    <tr>\n",
              "      <th>STL</th>\n",
              "      <td>0</td>\n",
              "    </tr>\n",
              "    <tr>\n",
              "      <th>BLK</th>\n",
              "      <td>0</td>\n",
              "    </tr>\n",
              "    <tr>\n",
              "      <th>TOV</th>\n",
              "      <td>0</td>\n",
              "    </tr>\n",
              "    <tr>\n",
              "      <th>TARGET_5Yrs</th>\n",
              "      <td>0</td>\n",
              "    </tr>\n",
              "  </tbody>\n",
              "</table>\n",
              "</div><br><label><b>dtype:</b> int64</label>"
            ]
          },
          "metadata": {},
          "execution_count": 43
        }
      ],
      "source": [
        "#ENTER YOUR CODE HERE\n",
        "df.isnull().sum()"
      ]
    },
    {
      "cell_type": "code",
      "execution_count": 44,
      "id": "f24b7222",
      "metadata": {
        "id": "f24b7222",
        "outputId": "58b21372-a5c4-4341-efc8-ded71c88b2d0",
        "colab": {
          "base_uri": "https://localhost:8080/",
          "height": 711
        }
      },
      "outputs": [
        {
          "output_type": "execute_result",
          "data": {
            "text/plain": [
              "GP             0\n",
              "MIN            0\n",
              "PTS            0\n",
              "FGM            0\n",
              "FGA            0\n",
              "FG%            0\n",
              "3P Made        0\n",
              "3PA            0\n",
              "3P%            0\n",
              "FTM            0\n",
              "FTA            0\n",
              "FT%            0\n",
              "OREB           0\n",
              "DREB           0\n",
              "REB            0\n",
              "AST            0\n",
              "STL            0\n",
              "BLK            0\n",
              "TOV            0\n",
              "TARGET_5Yrs    0\n",
              "dtype: int64"
            ],
            "text/html": [
              "<div>\n",
              "<style scoped>\n",
              "    .dataframe tbody tr th:only-of-type {\n",
              "        vertical-align: middle;\n",
              "    }\n",
              "\n",
              "    .dataframe tbody tr th {\n",
              "        vertical-align: top;\n",
              "    }\n",
              "\n",
              "    .dataframe thead th {\n",
              "        text-align: right;\n",
              "    }\n",
              "</style>\n",
              "<table border=\"1\" class=\"dataframe\">\n",
              "  <thead>\n",
              "    <tr style=\"text-align: right;\">\n",
              "      <th></th>\n",
              "      <th>0</th>\n",
              "    </tr>\n",
              "  </thead>\n",
              "  <tbody>\n",
              "    <tr>\n",
              "      <th>GP</th>\n",
              "      <td>0</td>\n",
              "    </tr>\n",
              "    <tr>\n",
              "      <th>MIN</th>\n",
              "      <td>0</td>\n",
              "    </tr>\n",
              "    <tr>\n",
              "      <th>PTS</th>\n",
              "      <td>0</td>\n",
              "    </tr>\n",
              "    <tr>\n",
              "      <th>FGM</th>\n",
              "      <td>0</td>\n",
              "    </tr>\n",
              "    <tr>\n",
              "      <th>FGA</th>\n",
              "      <td>0</td>\n",
              "    </tr>\n",
              "    <tr>\n",
              "      <th>FG%</th>\n",
              "      <td>0</td>\n",
              "    </tr>\n",
              "    <tr>\n",
              "      <th>3P Made</th>\n",
              "      <td>0</td>\n",
              "    </tr>\n",
              "    <tr>\n",
              "      <th>3PA</th>\n",
              "      <td>0</td>\n",
              "    </tr>\n",
              "    <tr>\n",
              "      <th>3P%</th>\n",
              "      <td>0</td>\n",
              "    </tr>\n",
              "    <tr>\n",
              "      <th>FTM</th>\n",
              "      <td>0</td>\n",
              "    </tr>\n",
              "    <tr>\n",
              "      <th>FTA</th>\n",
              "      <td>0</td>\n",
              "    </tr>\n",
              "    <tr>\n",
              "      <th>FT%</th>\n",
              "      <td>0</td>\n",
              "    </tr>\n",
              "    <tr>\n",
              "      <th>OREB</th>\n",
              "      <td>0</td>\n",
              "    </tr>\n",
              "    <tr>\n",
              "      <th>DREB</th>\n",
              "      <td>0</td>\n",
              "    </tr>\n",
              "    <tr>\n",
              "      <th>REB</th>\n",
              "      <td>0</td>\n",
              "    </tr>\n",
              "    <tr>\n",
              "      <th>AST</th>\n",
              "      <td>0</td>\n",
              "    </tr>\n",
              "    <tr>\n",
              "      <th>STL</th>\n",
              "      <td>0</td>\n",
              "    </tr>\n",
              "    <tr>\n",
              "      <th>BLK</th>\n",
              "      <td>0</td>\n",
              "    </tr>\n",
              "    <tr>\n",
              "      <th>TOV</th>\n",
              "      <td>0</td>\n",
              "    </tr>\n",
              "    <tr>\n",
              "      <th>TARGET_5Yrs</th>\n",
              "      <td>0</td>\n",
              "    </tr>\n",
              "  </tbody>\n",
              "</table>\n",
              "</div><br><label><b>dtype:</b> int64</label>"
            ]
          },
          "metadata": {},
          "execution_count": 44
        }
      ],
      "source": [
        "df['3P%'] = df['3P%'].fillna(df['3P%'].median())\n",
        "df.isnull().sum()"
      ]
    },
    {
      "cell_type": "markdown",
      "id": "c9b7facb",
      "metadata": {
        "id": "c9b7facb"
      },
      "source": [
        "**What is the shape of the dataframe now?**"
      ]
    },
    {
      "cell_type": "code",
      "execution_count": 45,
      "id": "95387cfd",
      "metadata": {
        "id": "95387cfd"
      },
      "outputs": [],
      "source": [
        "#ENTER YOUR CODE HERE"
      ]
    },
    {
      "cell_type": "code",
      "execution_count": 46,
      "id": "c33648e1",
      "metadata": {
        "colab": {
          "base_uri": "https://localhost:8080/"
        },
        "id": "c33648e1",
        "outputId": "c7abb1b6-c83a-4edb-ca95-198832480072"
      },
      "outputs": [
        {
          "output_type": "execute_result",
          "data": {
            "text/plain": [
              "(1340, 20)"
            ]
          },
          "metadata": {},
          "execution_count": 46
        }
      ],
      "source": [
        "df.shape\n"
      ]
    },
    {
      "cell_type": "markdown",
      "id": "bfd92e27",
      "metadata": {
        "id": "bfd92e27"
      },
      "source": [
        "**For training, first create a dataframe that stores the columns to be used for training, and another dataframe that stores the labels.**"
      ]
    },
    {
      "cell_type": "code",
      "execution_count": 47,
      "id": "bded72d3",
      "metadata": {
        "id": "bded72d3"
      },
      "outputs": [],
      "source": [
        "#ENTER YOUR CODE HERE"
      ]
    },
    {
      "cell_type": "code",
      "execution_count": 48,
      "id": "adbb0ca7",
      "metadata": {
        "colab": {
          "base_uri": "https://localhost:8080/"
        },
        "id": "adbb0ca7",
        "outputId": "1019526b-9462-4dd6-d6ce-b9f7b50528e2"
      },
      "outputs": [
        {
          "output_type": "stream",
          "name": "stdout",
          "text": [
            "(1340, 19) (1340,)\n"
          ]
        }
      ],
      "source": [
        "x = df.drop('TARGET_5Yrs', axis=1)\n",
        "y = df['TARGET_5Yrs']\n",
        "\n",
        "print(x.shape , y.shape)"
      ]
    },
    {
      "cell_type": "markdown",
      "id": "8238d566",
      "metadata": {
        "id": "8238d566"
      },
      "source": [
        "It is considered best practice to divide the dataset into two parts- test and train(Search the internet for the reason- we'll ask in class :)).\n",
        "\n",
        "**Import the sklearn module that allows us to split the dataset into train and test.**"
      ]
    },
    {
      "cell_type": "code",
      "execution_count": 49,
      "id": "d04adf77",
      "metadata": {
        "id": "d04adf77"
      },
      "outputs": [],
      "source": [
        "#ENTER YOUR CODE HERE\n",
        "from sklearn.model_selection import train_test_split"
      ]
    },
    {
      "cell_type": "markdown",
      "id": "a0942a8d",
      "metadata": {
        "id": "a0942a8d"
      },
      "source": [
        "**Now divide the features and label dataframes into train and test splits.**"
      ]
    },
    {
      "cell_type": "code",
      "execution_count": 50,
      "id": "7ede286b",
      "metadata": {
        "id": "7ede286b"
      },
      "outputs": [],
      "source": [
        "#ENTER YOUR CODE HERE\n",
        "\n",
        "x_train , x_test ,y_train,y_test = train_test_split(x , y , test_size = 0.2 , random_state = 42)"
      ]
    },
    {
      "cell_type": "code",
      "execution_count": 51,
      "id": "3e27d893",
      "metadata": {
        "colab": {
          "base_uri": "https://localhost:8080/"
        },
        "id": "3e27d893",
        "outputId": "e0b50220-159d-43e5-e518-9341ae42e503"
      },
      "outputs": [
        {
          "output_type": "stream",
          "name": "stdout",
          "text": [
            "(1072, 19) (268, 19) (1072,) (268,)\n"
          ]
        }
      ],
      "source": [
        "print(x_train.shape, x_test.shape , y_train.shape , y_test.shape)"
      ]
    },
    {
      "cell_type": "markdown",
      "id": "59967c23",
      "metadata": {
        "id": "59967c23"
      },
      "source": [
        "**Now load the sklearn module that allows the creation of a logistic regression model.**"
      ]
    },
    {
      "cell_type": "code",
      "execution_count": 52,
      "id": "ec9140fb",
      "metadata": {
        "id": "ec9140fb"
      },
      "outputs": [],
      "source": [
        "#ENTER YOUR CODE HERE\n",
        "from sklearn.linear_model import LogisticRegression\n"
      ]
    },
    {
      "cell_type": "markdown",
      "id": "a7dcda82",
      "metadata": {
        "id": "a7dcda82"
      },
      "source": [
        "**Onto training! Train the a logistic regression model using the training features and labels dataframes.**"
      ]
    },
    {
      "cell_type": "code",
      "execution_count": 53,
      "id": "3fdccd59",
      "metadata": {
        "id": "3fdccd59",
        "outputId": "30445507-f5af-47ae-efdd-ffc420d53550",
        "colab": {
          "base_uri": "https://localhost:8080/",
          "height": 225
        }
      },
      "outputs": [
        {
          "output_type": "stream",
          "name": "stderr",
          "text": [
            "/usr/local/lib/python3.11/dist-packages/sklearn/linear_model/_logistic.py:465: ConvergenceWarning: lbfgs failed to converge (status=1):\n",
            "STOP: TOTAL NO. OF ITERATIONS REACHED LIMIT.\n",
            "\n",
            "Increase the number of iterations (max_iter) or scale the data as shown in:\n",
            "    https://scikit-learn.org/stable/modules/preprocessing.html\n",
            "Please also refer to the documentation for alternative solver options:\n",
            "    https://scikit-learn.org/stable/modules/linear_model.html#logistic-regression\n",
            "  n_iter_i = _check_optimize_result(\n"
          ]
        },
        {
          "output_type": "execute_result",
          "data": {
            "text/plain": [
              "LogisticRegression(max_iter=1000)"
            ],
            "text/html": [
              "<style>#sk-container-id-1 {\n",
              "  /* Definition of color scheme common for light and dark mode */\n",
              "  --sklearn-color-text: #000;\n",
              "  --sklearn-color-text-muted: #666;\n",
              "  --sklearn-color-line: gray;\n",
              "  /* Definition of color scheme for unfitted estimators */\n",
              "  --sklearn-color-unfitted-level-0: #fff5e6;\n",
              "  --sklearn-color-unfitted-level-1: #f6e4d2;\n",
              "  --sklearn-color-unfitted-level-2: #ffe0b3;\n",
              "  --sklearn-color-unfitted-level-3: chocolate;\n",
              "  /* Definition of color scheme for fitted estimators */\n",
              "  --sklearn-color-fitted-level-0: #f0f8ff;\n",
              "  --sklearn-color-fitted-level-1: #d4ebff;\n",
              "  --sklearn-color-fitted-level-2: #b3dbfd;\n",
              "  --sklearn-color-fitted-level-3: cornflowerblue;\n",
              "\n",
              "  /* Specific color for light theme */\n",
              "  --sklearn-color-text-on-default-background: var(--sg-text-color, var(--theme-code-foreground, var(--jp-content-font-color1, black)));\n",
              "  --sklearn-color-background: var(--sg-background-color, var(--theme-background, var(--jp-layout-color0, white)));\n",
              "  --sklearn-color-border-box: var(--sg-text-color, var(--theme-code-foreground, var(--jp-content-font-color1, black)));\n",
              "  --sklearn-color-icon: #696969;\n",
              "\n",
              "  @media (prefers-color-scheme: dark) {\n",
              "    /* Redefinition of color scheme for dark theme */\n",
              "    --sklearn-color-text-on-default-background: var(--sg-text-color, var(--theme-code-foreground, var(--jp-content-font-color1, white)));\n",
              "    --sklearn-color-background: var(--sg-background-color, var(--theme-background, var(--jp-layout-color0, #111)));\n",
              "    --sklearn-color-border-box: var(--sg-text-color, var(--theme-code-foreground, var(--jp-content-font-color1, white)));\n",
              "    --sklearn-color-icon: #878787;\n",
              "  }\n",
              "}\n",
              "\n",
              "#sk-container-id-1 {\n",
              "  color: var(--sklearn-color-text);\n",
              "}\n",
              "\n",
              "#sk-container-id-1 pre {\n",
              "  padding: 0;\n",
              "}\n",
              "\n",
              "#sk-container-id-1 input.sk-hidden--visually {\n",
              "  border: 0;\n",
              "  clip: rect(1px 1px 1px 1px);\n",
              "  clip: rect(1px, 1px, 1px, 1px);\n",
              "  height: 1px;\n",
              "  margin: -1px;\n",
              "  overflow: hidden;\n",
              "  padding: 0;\n",
              "  position: absolute;\n",
              "  width: 1px;\n",
              "}\n",
              "\n",
              "#sk-container-id-1 div.sk-dashed-wrapped {\n",
              "  border: 1px dashed var(--sklearn-color-line);\n",
              "  margin: 0 0.4em 0.5em 0.4em;\n",
              "  box-sizing: border-box;\n",
              "  padding-bottom: 0.4em;\n",
              "  background-color: var(--sklearn-color-background);\n",
              "}\n",
              "\n",
              "#sk-container-id-1 div.sk-container {\n",
              "  /* jupyter's `normalize.less` sets `[hidden] { display: none; }`\n",
              "     but bootstrap.min.css set `[hidden] { display: none !important; }`\n",
              "     so we also need the `!important` here to be able to override the\n",
              "     default hidden behavior on the sphinx rendered scikit-learn.org.\n",
              "     See: https://github.com/scikit-learn/scikit-learn/issues/21755 */\n",
              "  display: inline-block !important;\n",
              "  position: relative;\n",
              "}\n",
              "\n",
              "#sk-container-id-1 div.sk-text-repr-fallback {\n",
              "  display: none;\n",
              "}\n",
              "\n",
              "div.sk-parallel-item,\n",
              "div.sk-serial,\n",
              "div.sk-item {\n",
              "  /* draw centered vertical line to link estimators */\n",
              "  background-image: linear-gradient(var(--sklearn-color-text-on-default-background), var(--sklearn-color-text-on-default-background));\n",
              "  background-size: 2px 100%;\n",
              "  background-repeat: no-repeat;\n",
              "  background-position: center center;\n",
              "}\n",
              "\n",
              "/* Parallel-specific style estimator block */\n",
              "\n",
              "#sk-container-id-1 div.sk-parallel-item::after {\n",
              "  content: \"\";\n",
              "  width: 100%;\n",
              "  border-bottom: 2px solid var(--sklearn-color-text-on-default-background);\n",
              "  flex-grow: 1;\n",
              "}\n",
              "\n",
              "#sk-container-id-1 div.sk-parallel {\n",
              "  display: flex;\n",
              "  align-items: stretch;\n",
              "  justify-content: center;\n",
              "  background-color: var(--sklearn-color-background);\n",
              "  position: relative;\n",
              "}\n",
              "\n",
              "#sk-container-id-1 div.sk-parallel-item {\n",
              "  display: flex;\n",
              "  flex-direction: column;\n",
              "}\n",
              "\n",
              "#sk-container-id-1 div.sk-parallel-item:first-child::after {\n",
              "  align-self: flex-end;\n",
              "  width: 50%;\n",
              "}\n",
              "\n",
              "#sk-container-id-1 div.sk-parallel-item:last-child::after {\n",
              "  align-self: flex-start;\n",
              "  width: 50%;\n",
              "}\n",
              "\n",
              "#sk-container-id-1 div.sk-parallel-item:only-child::after {\n",
              "  width: 0;\n",
              "}\n",
              "\n",
              "/* Serial-specific style estimator block */\n",
              "\n",
              "#sk-container-id-1 div.sk-serial {\n",
              "  display: flex;\n",
              "  flex-direction: column;\n",
              "  align-items: center;\n",
              "  background-color: var(--sklearn-color-background);\n",
              "  padding-right: 1em;\n",
              "  padding-left: 1em;\n",
              "}\n",
              "\n",
              "\n",
              "/* Toggleable style: style used for estimator/Pipeline/ColumnTransformer box that is\n",
              "clickable and can be expanded/collapsed.\n",
              "- Pipeline and ColumnTransformer use this feature and define the default style\n",
              "- Estimators will overwrite some part of the style using the `sk-estimator` class\n",
              "*/\n",
              "\n",
              "/* Pipeline and ColumnTransformer style (default) */\n",
              "\n",
              "#sk-container-id-1 div.sk-toggleable {\n",
              "  /* Default theme specific background. It is overwritten whether we have a\n",
              "  specific estimator or a Pipeline/ColumnTransformer */\n",
              "  background-color: var(--sklearn-color-background);\n",
              "}\n",
              "\n",
              "/* Toggleable label */\n",
              "#sk-container-id-1 label.sk-toggleable__label {\n",
              "  cursor: pointer;\n",
              "  display: flex;\n",
              "  width: 100%;\n",
              "  margin-bottom: 0;\n",
              "  padding: 0.5em;\n",
              "  box-sizing: border-box;\n",
              "  text-align: center;\n",
              "  align-items: start;\n",
              "  justify-content: space-between;\n",
              "  gap: 0.5em;\n",
              "}\n",
              "\n",
              "#sk-container-id-1 label.sk-toggleable__label .caption {\n",
              "  font-size: 0.6rem;\n",
              "  font-weight: lighter;\n",
              "  color: var(--sklearn-color-text-muted);\n",
              "}\n",
              "\n",
              "#sk-container-id-1 label.sk-toggleable__label-arrow:before {\n",
              "  /* Arrow on the left of the label */\n",
              "  content: \"▸\";\n",
              "  float: left;\n",
              "  margin-right: 0.25em;\n",
              "  color: var(--sklearn-color-icon);\n",
              "}\n",
              "\n",
              "#sk-container-id-1 label.sk-toggleable__label-arrow:hover:before {\n",
              "  color: var(--sklearn-color-text);\n",
              "}\n",
              "\n",
              "/* Toggleable content - dropdown */\n",
              "\n",
              "#sk-container-id-1 div.sk-toggleable__content {\n",
              "  max-height: 0;\n",
              "  max-width: 0;\n",
              "  overflow: hidden;\n",
              "  text-align: left;\n",
              "  /* unfitted */\n",
              "  background-color: var(--sklearn-color-unfitted-level-0);\n",
              "}\n",
              "\n",
              "#sk-container-id-1 div.sk-toggleable__content.fitted {\n",
              "  /* fitted */\n",
              "  background-color: var(--sklearn-color-fitted-level-0);\n",
              "}\n",
              "\n",
              "#sk-container-id-1 div.sk-toggleable__content pre {\n",
              "  margin: 0.2em;\n",
              "  border-radius: 0.25em;\n",
              "  color: var(--sklearn-color-text);\n",
              "  /* unfitted */\n",
              "  background-color: var(--sklearn-color-unfitted-level-0);\n",
              "}\n",
              "\n",
              "#sk-container-id-1 div.sk-toggleable__content.fitted pre {\n",
              "  /* unfitted */\n",
              "  background-color: var(--sklearn-color-fitted-level-0);\n",
              "}\n",
              "\n",
              "#sk-container-id-1 input.sk-toggleable__control:checked~div.sk-toggleable__content {\n",
              "  /* Expand drop-down */\n",
              "  max-height: 200px;\n",
              "  max-width: 100%;\n",
              "  overflow: auto;\n",
              "}\n",
              "\n",
              "#sk-container-id-1 input.sk-toggleable__control:checked~label.sk-toggleable__label-arrow:before {\n",
              "  content: \"▾\";\n",
              "}\n",
              "\n",
              "/* Pipeline/ColumnTransformer-specific style */\n",
              "\n",
              "#sk-container-id-1 div.sk-label input.sk-toggleable__control:checked~label.sk-toggleable__label {\n",
              "  color: var(--sklearn-color-text);\n",
              "  background-color: var(--sklearn-color-unfitted-level-2);\n",
              "}\n",
              "\n",
              "#sk-container-id-1 div.sk-label.fitted input.sk-toggleable__control:checked~label.sk-toggleable__label {\n",
              "  background-color: var(--sklearn-color-fitted-level-2);\n",
              "}\n",
              "\n",
              "/* Estimator-specific style */\n",
              "\n",
              "/* Colorize estimator box */\n",
              "#sk-container-id-1 div.sk-estimator input.sk-toggleable__control:checked~label.sk-toggleable__label {\n",
              "  /* unfitted */\n",
              "  background-color: var(--sklearn-color-unfitted-level-2);\n",
              "}\n",
              "\n",
              "#sk-container-id-1 div.sk-estimator.fitted input.sk-toggleable__control:checked~label.sk-toggleable__label {\n",
              "  /* fitted */\n",
              "  background-color: var(--sklearn-color-fitted-level-2);\n",
              "}\n",
              "\n",
              "#sk-container-id-1 div.sk-label label.sk-toggleable__label,\n",
              "#sk-container-id-1 div.sk-label label {\n",
              "  /* The background is the default theme color */\n",
              "  color: var(--sklearn-color-text-on-default-background);\n",
              "}\n",
              "\n",
              "/* On hover, darken the color of the background */\n",
              "#sk-container-id-1 div.sk-label:hover label.sk-toggleable__label {\n",
              "  color: var(--sklearn-color-text);\n",
              "  background-color: var(--sklearn-color-unfitted-level-2);\n",
              "}\n",
              "\n",
              "/* Label box, darken color on hover, fitted */\n",
              "#sk-container-id-1 div.sk-label.fitted:hover label.sk-toggleable__label.fitted {\n",
              "  color: var(--sklearn-color-text);\n",
              "  background-color: var(--sklearn-color-fitted-level-2);\n",
              "}\n",
              "\n",
              "/* Estimator label */\n",
              "\n",
              "#sk-container-id-1 div.sk-label label {\n",
              "  font-family: monospace;\n",
              "  font-weight: bold;\n",
              "  display: inline-block;\n",
              "  line-height: 1.2em;\n",
              "}\n",
              "\n",
              "#sk-container-id-1 div.sk-label-container {\n",
              "  text-align: center;\n",
              "}\n",
              "\n",
              "/* Estimator-specific */\n",
              "#sk-container-id-1 div.sk-estimator {\n",
              "  font-family: monospace;\n",
              "  border: 1px dotted var(--sklearn-color-border-box);\n",
              "  border-radius: 0.25em;\n",
              "  box-sizing: border-box;\n",
              "  margin-bottom: 0.5em;\n",
              "  /* unfitted */\n",
              "  background-color: var(--sklearn-color-unfitted-level-0);\n",
              "}\n",
              "\n",
              "#sk-container-id-1 div.sk-estimator.fitted {\n",
              "  /* fitted */\n",
              "  background-color: var(--sklearn-color-fitted-level-0);\n",
              "}\n",
              "\n",
              "/* on hover */\n",
              "#sk-container-id-1 div.sk-estimator:hover {\n",
              "  /* unfitted */\n",
              "  background-color: var(--sklearn-color-unfitted-level-2);\n",
              "}\n",
              "\n",
              "#sk-container-id-1 div.sk-estimator.fitted:hover {\n",
              "  /* fitted */\n",
              "  background-color: var(--sklearn-color-fitted-level-2);\n",
              "}\n",
              "\n",
              "/* Specification for estimator info (e.g. \"i\" and \"?\") */\n",
              "\n",
              "/* Common style for \"i\" and \"?\" */\n",
              "\n",
              ".sk-estimator-doc-link,\n",
              "a:link.sk-estimator-doc-link,\n",
              "a:visited.sk-estimator-doc-link {\n",
              "  float: right;\n",
              "  font-size: smaller;\n",
              "  line-height: 1em;\n",
              "  font-family: monospace;\n",
              "  background-color: var(--sklearn-color-background);\n",
              "  border-radius: 1em;\n",
              "  height: 1em;\n",
              "  width: 1em;\n",
              "  text-decoration: none !important;\n",
              "  margin-left: 0.5em;\n",
              "  text-align: center;\n",
              "  /* unfitted */\n",
              "  border: var(--sklearn-color-unfitted-level-1) 1pt solid;\n",
              "  color: var(--sklearn-color-unfitted-level-1);\n",
              "}\n",
              "\n",
              ".sk-estimator-doc-link.fitted,\n",
              "a:link.sk-estimator-doc-link.fitted,\n",
              "a:visited.sk-estimator-doc-link.fitted {\n",
              "  /* fitted */\n",
              "  border: var(--sklearn-color-fitted-level-1) 1pt solid;\n",
              "  color: var(--sklearn-color-fitted-level-1);\n",
              "}\n",
              "\n",
              "/* On hover */\n",
              "div.sk-estimator:hover .sk-estimator-doc-link:hover,\n",
              ".sk-estimator-doc-link:hover,\n",
              "div.sk-label-container:hover .sk-estimator-doc-link:hover,\n",
              ".sk-estimator-doc-link:hover {\n",
              "  /* unfitted */\n",
              "  background-color: var(--sklearn-color-unfitted-level-3);\n",
              "  color: var(--sklearn-color-background);\n",
              "  text-decoration: none;\n",
              "}\n",
              "\n",
              "div.sk-estimator.fitted:hover .sk-estimator-doc-link.fitted:hover,\n",
              ".sk-estimator-doc-link.fitted:hover,\n",
              "div.sk-label-container:hover .sk-estimator-doc-link.fitted:hover,\n",
              ".sk-estimator-doc-link.fitted:hover {\n",
              "  /* fitted */\n",
              "  background-color: var(--sklearn-color-fitted-level-3);\n",
              "  color: var(--sklearn-color-background);\n",
              "  text-decoration: none;\n",
              "}\n",
              "\n",
              "/* Span, style for the box shown on hovering the info icon */\n",
              ".sk-estimator-doc-link span {\n",
              "  display: none;\n",
              "  z-index: 9999;\n",
              "  position: relative;\n",
              "  font-weight: normal;\n",
              "  right: .2ex;\n",
              "  padding: .5ex;\n",
              "  margin: .5ex;\n",
              "  width: min-content;\n",
              "  min-width: 20ex;\n",
              "  max-width: 50ex;\n",
              "  color: var(--sklearn-color-text);\n",
              "  box-shadow: 2pt 2pt 4pt #999;\n",
              "  /* unfitted */\n",
              "  background: var(--sklearn-color-unfitted-level-0);\n",
              "  border: .5pt solid var(--sklearn-color-unfitted-level-3);\n",
              "}\n",
              "\n",
              ".sk-estimator-doc-link.fitted span {\n",
              "  /* fitted */\n",
              "  background: var(--sklearn-color-fitted-level-0);\n",
              "  border: var(--sklearn-color-fitted-level-3);\n",
              "}\n",
              "\n",
              ".sk-estimator-doc-link:hover span {\n",
              "  display: block;\n",
              "}\n",
              "\n",
              "/* \"?\"-specific style due to the `<a>` HTML tag */\n",
              "\n",
              "#sk-container-id-1 a.estimator_doc_link {\n",
              "  float: right;\n",
              "  font-size: 1rem;\n",
              "  line-height: 1em;\n",
              "  font-family: monospace;\n",
              "  background-color: var(--sklearn-color-background);\n",
              "  border-radius: 1rem;\n",
              "  height: 1rem;\n",
              "  width: 1rem;\n",
              "  text-decoration: none;\n",
              "  /* unfitted */\n",
              "  color: var(--sklearn-color-unfitted-level-1);\n",
              "  border: var(--sklearn-color-unfitted-level-1) 1pt solid;\n",
              "}\n",
              "\n",
              "#sk-container-id-1 a.estimator_doc_link.fitted {\n",
              "  /* fitted */\n",
              "  border: var(--sklearn-color-fitted-level-1) 1pt solid;\n",
              "  color: var(--sklearn-color-fitted-level-1);\n",
              "}\n",
              "\n",
              "/* On hover */\n",
              "#sk-container-id-1 a.estimator_doc_link:hover {\n",
              "  /* unfitted */\n",
              "  background-color: var(--sklearn-color-unfitted-level-3);\n",
              "  color: var(--sklearn-color-background);\n",
              "  text-decoration: none;\n",
              "}\n",
              "\n",
              "#sk-container-id-1 a.estimator_doc_link.fitted:hover {\n",
              "  /* fitted */\n",
              "  background-color: var(--sklearn-color-fitted-level-3);\n",
              "}\n",
              "</style><div id=\"sk-container-id-1\" class=\"sk-top-container\"><div class=\"sk-text-repr-fallback\"><pre>LogisticRegression(max_iter=1000)</pre><b>In a Jupyter environment, please rerun this cell to show the HTML representation or trust the notebook. <br />On GitHub, the HTML representation is unable to render, please try loading this page with nbviewer.org.</b></div><div class=\"sk-container\" hidden><div class=\"sk-item\"><div class=\"sk-estimator fitted sk-toggleable\"><input class=\"sk-toggleable__control sk-hidden--visually\" id=\"sk-estimator-id-1\" type=\"checkbox\" checked><label for=\"sk-estimator-id-1\" class=\"sk-toggleable__label fitted sk-toggleable__label-arrow\"><div><div>LogisticRegression</div></div><div><a class=\"sk-estimator-doc-link fitted\" rel=\"noreferrer\" target=\"_blank\" href=\"https://scikit-learn.org/1.6/modules/generated/sklearn.linear_model.LogisticRegression.html\">?<span>Documentation for LogisticRegression</span></a><span class=\"sk-estimator-doc-link fitted\">i<span>Fitted</span></span></div></label><div class=\"sk-toggleable__content fitted\"><pre>LogisticRegression(max_iter=1000)</pre></div> </div></div></div></div>"
            ]
          },
          "metadata": {},
          "execution_count": 53
        }
      ],
      "source": [
        "#ENTER YOUR CODE HERE\n",
        "\n",
        "lr = LogisticRegression(max_iter =1000)\n",
        "\n",
        "lr.fit(x_train , y_train)\n"
      ]
    },
    {
      "cell_type": "code",
      "execution_count": 54,
      "id": "1d6d2dc2",
      "metadata": {
        "id": "1d6d2dc2"
      },
      "outputs": [],
      "source": [
        "y_pred = lr.predict(x_test)"
      ]
    },
    {
      "cell_type": "markdown",
      "id": "28794db2",
      "metadata": {
        "id": "28794db2"
      },
      "source": [
        "Your model is trained! Time to check how good it is by using it on the testing dataframe.\n",
        "Some metrics are used to check the reliability of a model.\n",
        "\n",
        "**As an exercise, read about these and fill out the markdown below!**\n"
      ]
    },
    {
      "cell_type": "markdown",
      "id": "82b4f00d",
      "metadata": {
        "id": "82b4f00d"
      },
      "source": [
        "- Accuracy:\n",
        "- F1 score:\n",
        "- Precision:\n",
        "- Recall:"
      ]
    },
    {
      "cell_type": "markdown",
      "id": "74a1c63a",
      "metadata": {
        "id": "74a1c63a"
      },
      "source": [
        "All of these can be calculated for our model using sklearn modules.\n",
        "\n",
        "**Import them!**"
      ]
    },
    {
      "cell_type": "code",
      "execution_count": 55,
      "id": "577eeeb5",
      "metadata": {
        "id": "577eeeb5"
      },
      "outputs": [],
      "source": [
        "#ENTER YOUR CODE HERE\n",
        "from sklearn.metrics import accuracy_score, f1_score, precision_score, recall_score"
      ]
    },
    {
      "cell_type": "markdown",
      "id": "c3c5d690",
      "metadata": {
        "id": "c3c5d690"
      },
      "source": [
        "**Now test on the testing dataframe and print all of these metrics.**"
      ]
    },
    {
      "cell_type": "code",
      "execution_count": 56,
      "id": "00118b46",
      "metadata": {
        "id": "00118b46",
        "outputId": "a9e6baa4-9e7d-4a12-f688-88db63be004d",
        "colab": {
          "base_uri": "https://localhost:8080/"
        }
      },
      "outputs": [
        {
          "output_type": "stream",
          "name": "stdout",
          "text": [
            "accuracy 0.7425373134328358\n",
            "F1 score 0.8088642659279779\n",
            "precision 0.7604166666666666\n",
            "recall  0.863905325443787\n"
          ]
        }
      ],
      "source": [
        "#ENTER YOUR CODE HERE\n",
        "\n",
        "print(\"accuracy\" ,accuracy_score(y_test ,y_pred) )\n",
        "print(\"F1 score\" ,f1_score(y_test ,y_pred) )\n",
        "print(\"precision\" ,precision_score(y_test ,y_pred) )\n",
        "print(\"recall \" ,recall_score(y_test ,y_pred) )"
      ]
    },
    {
      "cell_type": "code",
      "execution_count": 56,
      "id": "e6a0a584",
      "metadata": {
        "id": "e6a0a584"
      },
      "outputs": [],
      "source": []
    },
    {
      "cell_type": "markdown",
      "id": "7f58eee3",
      "metadata": {
        "id": "7f58eee3"
      },
      "source": [
        "**Your Logistic Regression model is well trained!**"
      ]
    },
    {
      "cell_type": "markdown",
      "id": "0d258814",
      "metadata": {
        "id": "0d258814"
      },
      "source": [
        "Support Vector Machine is another model that can be used both for regression and classification. We'll be training a classification model on our current dataset.\n",
        "\n",
        "**Import the sklearn module that is used to implement a classification SVM**"
      ]
    },
    {
      "cell_type": "code",
      "execution_count": 57,
      "id": "8ad0eb19",
      "metadata": {
        "id": "8ad0eb19",
        "outputId": "6753b817-b894-4154-9c33-5bd826b5aa1f",
        "colab": {
          "base_uri": "https://localhost:8080/",
          "height": 80
        }
      },
      "outputs": [
        {
          "output_type": "execute_result",
          "data": {
            "text/plain": [
              "SVC()"
            ],
            "text/html": [
              "<style>#sk-container-id-2 {\n",
              "  /* Definition of color scheme common for light and dark mode */\n",
              "  --sklearn-color-text: #000;\n",
              "  --sklearn-color-text-muted: #666;\n",
              "  --sklearn-color-line: gray;\n",
              "  /* Definition of color scheme for unfitted estimators */\n",
              "  --sklearn-color-unfitted-level-0: #fff5e6;\n",
              "  --sklearn-color-unfitted-level-1: #f6e4d2;\n",
              "  --sklearn-color-unfitted-level-2: #ffe0b3;\n",
              "  --sklearn-color-unfitted-level-3: chocolate;\n",
              "  /* Definition of color scheme for fitted estimators */\n",
              "  --sklearn-color-fitted-level-0: #f0f8ff;\n",
              "  --sklearn-color-fitted-level-1: #d4ebff;\n",
              "  --sklearn-color-fitted-level-2: #b3dbfd;\n",
              "  --sklearn-color-fitted-level-3: cornflowerblue;\n",
              "\n",
              "  /* Specific color for light theme */\n",
              "  --sklearn-color-text-on-default-background: var(--sg-text-color, var(--theme-code-foreground, var(--jp-content-font-color1, black)));\n",
              "  --sklearn-color-background: var(--sg-background-color, var(--theme-background, var(--jp-layout-color0, white)));\n",
              "  --sklearn-color-border-box: var(--sg-text-color, var(--theme-code-foreground, var(--jp-content-font-color1, black)));\n",
              "  --sklearn-color-icon: #696969;\n",
              "\n",
              "  @media (prefers-color-scheme: dark) {\n",
              "    /* Redefinition of color scheme for dark theme */\n",
              "    --sklearn-color-text-on-default-background: var(--sg-text-color, var(--theme-code-foreground, var(--jp-content-font-color1, white)));\n",
              "    --sklearn-color-background: var(--sg-background-color, var(--theme-background, var(--jp-layout-color0, #111)));\n",
              "    --sklearn-color-border-box: var(--sg-text-color, var(--theme-code-foreground, var(--jp-content-font-color1, white)));\n",
              "    --sklearn-color-icon: #878787;\n",
              "  }\n",
              "}\n",
              "\n",
              "#sk-container-id-2 {\n",
              "  color: var(--sklearn-color-text);\n",
              "}\n",
              "\n",
              "#sk-container-id-2 pre {\n",
              "  padding: 0;\n",
              "}\n",
              "\n",
              "#sk-container-id-2 input.sk-hidden--visually {\n",
              "  border: 0;\n",
              "  clip: rect(1px 1px 1px 1px);\n",
              "  clip: rect(1px, 1px, 1px, 1px);\n",
              "  height: 1px;\n",
              "  margin: -1px;\n",
              "  overflow: hidden;\n",
              "  padding: 0;\n",
              "  position: absolute;\n",
              "  width: 1px;\n",
              "}\n",
              "\n",
              "#sk-container-id-2 div.sk-dashed-wrapped {\n",
              "  border: 1px dashed var(--sklearn-color-line);\n",
              "  margin: 0 0.4em 0.5em 0.4em;\n",
              "  box-sizing: border-box;\n",
              "  padding-bottom: 0.4em;\n",
              "  background-color: var(--sklearn-color-background);\n",
              "}\n",
              "\n",
              "#sk-container-id-2 div.sk-container {\n",
              "  /* jupyter's `normalize.less` sets `[hidden] { display: none; }`\n",
              "     but bootstrap.min.css set `[hidden] { display: none !important; }`\n",
              "     so we also need the `!important` here to be able to override the\n",
              "     default hidden behavior on the sphinx rendered scikit-learn.org.\n",
              "     See: https://github.com/scikit-learn/scikit-learn/issues/21755 */\n",
              "  display: inline-block !important;\n",
              "  position: relative;\n",
              "}\n",
              "\n",
              "#sk-container-id-2 div.sk-text-repr-fallback {\n",
              "  display: none;\n",
              "}\n",
              "\n",
              "div.sk-parallel-item,\n",
              "div.sk-serial,\n",
              "div.sk-item {\n",
              "  /* draw centered vertical line to link estimators */\n",
              "  background-image: linear-gradient(var(--sklearn-color-text-on-default-background), var(--sklearn-color-text-on-default-background));\n",
              "  background-size: 2px 100%;\n",
              "  background-repeat: no-repeat;\n",
              "  background-position: center center;\n",
              "}\n",
              "\n",
              "/* Parallel-specific style estimator block */\n",
              "\n",
              "#sk-container-id-2 div.sk-parallel-item::after {\n",
              "  content: \"\";\n",
              "  width: 100%;\n",
              "  border-bottom: 2px solid var(--sklearn-color-text-on-default-background);\n",
              "  flex-grow: 1;\n",
              "}\n",
              "\n",
              "#sk-container-id-2 div.sk-parallel {\n",
              "  display: flex;\n",
              "  align-items: stretch;\n",
              "  justify-content: center;\n",
              "  background-color: var(--sklearn-color-background);\n",
              "  position: relative;\n",
              "}\n",
              "\n",
              "#sk-container-id-2 div.sk-parallel-item {\n",
              "  display: flex;\n",
              "  flex-direction: column;\n",
              "}\n",
              "\n",
              "#sk-container-id-2 div.sk-parallel-item:first-child::after {\n",
              "  align-self: flex-end;\n",
              "  width: 50%;\n",
              "}\n",
              "\n",
              "#sk-container-id-2 div.sk-parallel-item:last-child::after {\n",
              "  align-self: flex-start;\n",
              "  width: 50%;\n",
              "}\n",
              "\n",
              "#sk-container-id-2 div.sk-parallel-item:only-child::after {\n",
              "  width: 0;\n",
              "}\n",
              "\n",
              "/* Serial-specific style estimator block */\n",
              "\n",
              "#sk-container-id-2 div.sk-serial {\n",
              "  display: flex;\n",
              "  flex-direction: column;\n",
              "  align-items: center;\n",
              "  background-color: var(--sklearn-color-background);\n",
              "  padding-right: 1em;\n",
              "  padding-left: 1em;\n",
              "}\n",
              "\n",
              "\n",
              "/* Toggleable style: style used for estimator/Pipeline/ColumnTransformer box that is\n",
              "clickable and can be expanded/collapsed.\n",
              "- Pipeline and ColumnTransformer use this feature and define the default style\n",
              "- Estimators will overwrite some part of the style using the `sk-estimator` class\n",
              "*/\n",
              "\n",
              "/* Pipeline and ColumnTransformer style (default) */\n",
              "\n",
              "#sk-container-id-2 div.sk-toggleable {\n",
              "  /* Default theme specific background. It is overwritten whether we have a\n",
              "  specific estimator or a Pipeline/ColumnTransformer */\n",
              "  background-color: var(--sklearn-color-background);\n",
              "}\n",
              "\n",
              "/* Toggleable label */\n",
              "#sk-container-id-2 label.sk-toggleable__label {\n",
              "  cursor: pointer;\n",
              "  display: flex;\n",
              "  width: 100%;\n",
              "  margin-bottom: 0;\n",
              "  padding: 0.5em;\n",
              "  box-sizing: border-box;\n",
              "  text-align: center;\n",
              "  align-items: start;\n",
              "  justify-content: space-between;\n",
              "  gap: 0.5em;\n",
              "}\n",
              "\n",
              "#sk-container-id-2 label.sk-toggleable__label .caption {\n",
              "  font-size: 0.6rem;\n",
              "  font-weight: lighter;\n",
              "  color: var(--sklearn-color-text-muted);\n",
              "}\n",
              "\n",
              "#sk-container-id-2 label.sk-toggleable__label-arrow:before {\n",
              "  /* Arrow on the left of the label */\n",
              "  content: \"▸\";\n",
              "  float: left;\n",
              "  margin-right: 0.25em;\n",
              "  color: var(--sklearn-color-icon);\n",
              "}\n",
              "\n",
              "#sk-container-id-2 label.sk-toggleable__label-arrow:hover:before {\n",
              "  color: var(--sklearn-color-text);\n",
              "}\n",
              "\n",
              "/* Toggleable content - dropdown */\n",
              "\n",
              "#sk-container-id-2 div.sk-toggleable__content {\n",
              "  max-height: 0;\n",
              "  max-width: 0;\n",
              "  overflow: hidden;\n",
              "  text-align: left;\n",
              "  /* unfitted */\n",
              "  background-color: var(--sklearn-color-unfitted-level-0);\n",
              "}\n",
              "\n",
              "#sk-container-id-2 div.sk-toggleable__content.fitted {\n",
              "  /* fitted */\n",
              "  background-color: var(--sklearn-color-fitted-level-0);\n",
              "}\n",
              "\n",
              "#sk-container-id-2 div.sk-toggleable__content pre {\n",
              "  margin: 0.2em;\n",
              "  border-radius: 0.25em;\n",
              "  color: var(--sklearn-color-text);\n",
              "  /* unfitted */\n",
              "  background-color: var(--sklearn-color-unfitted-level-0);\n",
              "}\n",
              "\n",
              "#sk-container-id-2 div.sk-toggleable__content.fitted pre {\n",
              "  /* unfitted */\n",
              "  background-color: var(--sklearn-color-fitted-level-0);\n",
              "}\n",
              "\n",
              "#sk-container-id-2 input.sk-toggleable__control:checked~div.sk-toggleable__content {\n",
              "  /* Expand drop-down */\n",
              "  max-height: 200px;\n",
              "  max-width: 100%;\n",
              "  overflow: auto;\n",
              "}\n",
              "\n",
              "#sk-container-id-2 input.sk-toggleable__control:checked~label.sk-toggleable__label-arrow:before {\n",
              "  content: \"▾\";\n",
              "}\n",
              "\n",
              "/* Pipeline/ColumnTransformer-specific style */\n",
              "\n",
              "#sk-container-id-2 div.sk-label input.sk-toggleable__control:checked~label.sk-toggleable__label {\n",
              "  color: var(--sklearn-color-text);\n",
              "  background-color: var(--sklearn-color-unfitted-level-2);\n",
              "}\n",
              "\n",
              "#sk-container-id-2 div.sk-label.fitted input.sk-toggleable__control:checked~label.sk-toggleable__label {\n",
              "  background-color: var(--sklearn-color-fitted-level-2);\n",
              "}\n",
              "\n",
              "/* Estimator-specific style */\n",
              "\n",
              "/* Colorize estimator box */\n",
              "#sk-container-id-2 div.sk-estimator input.sk-toggleable__control:checked~label.sk-toggleable__label {\n",
              "  /* unfitted */\n",
              "  background-color: var(--sklearn-color-unfitted-level-2);\n",
              "}\n",
              "\n",
              "#sk-container-id-2 div.sk-estimator.fitted input.sk-toggleable__control:checked~label.sk-toggleable__label {\n",
              "  /* fitted */\n",
              "  background-color: var(--sklearn-color-fitted-level-2);\n",
              "}\n",
              "\n",
              "#sk-container-id-2 div.sk-label label.sk-toggleable__label,\n",
              "#sk-container-id-2 div.sk-label label {\n",
              "  /* The background is the default theme color */\n",
              "  color: var(--sklearn-color-text-on-default-background);\n",
              "}\n",
              "\n",
              "/* On hover, darken the color of the background */\n",
              "#sk-container-id-2 div.sk-label:hover label.sk-toggleable__label {\n",
              "  color: var(--sklearn-color-text);\n",
              "  background-color: var(--sklearn-color-unfitted-level-2);\n",
              "}\n",
              "\n",
              "/* Label box, darken color on hover, fitted */\n",
              "#sk-container-id-2 div.sk-label.fitted:hover label.sk-toggleable__label.fitted {\n",
              "  color: var(--sklearn-color-text);\n",
              "  background-color: var(--sklearn-color-fitted-level-2);\n",
              "}\n",
              "\n",
              "/* Estimator label */\n",
              "\n",
              "#sk-container-id-2 div.sk-label label {\n",
              "  font-family: monospace;\n",
              "  font-weight: bold;\n",
              "  display: inline-block;\n",
              "  line-height: 1.2em;\n",
              "}\n",
              "\n",
              "#sk-container-id-2 div.sk-label-container {\n",
              "  text-align: center;\n",
              "}\n",
              "\n",
              "/* Estimator-specific */\n",
              "#sk-container-id-2 div.sk-estimator {\n",
              "  font-family: monospace;\n",
              "  border: 1px dotted var(--sklearn-color-border-box);\n",
              "  border-radius: 0.25em;\n",
              "  box-sizing: border-box;\n",
              "  margin-bottom: 0.5em;\n",
              "  /* unfitted */\n",
              "  background-color: var(--sklearn-color-unfitted-level-0);\n",
              "}\n",
              "\n",
              "#sk-container-id-2 div.sk-estimator.fitted {\n",
              "  /* fitted */\n",
              "  background-color: var(--sklearn-color-fitted-level-0);\n",
              "}\n",
              "\n",
              "/* on hover */\n",
              "#sk-container-id-2 div.sk-estimator:hover {\n",
              "  /* unfitted */\n",
              "  background-color: var(--sklearn-color-unfitted-level-2);\n",
              "}\n",
              "\n",
              "#sk-container-id-2 div.sk-estimator.fitted:hover {\n",
              "  /* fitted */\n",
              "  background-color: var(--sklearn-color-fitted-level-2);\n",
              "}\n",
              "\n",
              "/* Specification for estimator info (e.g. \"i\" and \"?\") */\n",
              "\n",
              "/* Common style for \"i\" and \"?\" */\n",
              "\n",
              ".sk-estimator-doc-link,\n",
              "a:link.sk-estimator-doc-link,\n",
              "a:visited.sk-estimator-doc-link {\n",
              "  float: right;\n",
              "  font-size: smaller;\n",
              "  line-height: 1em;\n",
              "  font-family: monospace;\n",
              "  background-color: var(--sklearn-color-background);\n",
              "  border-radius: 1em;\n",
              "  height: 1em;\n",
              "  width: 1em;\n",
              "  text-decoration: none !important;\n",
              "  margin-left: 0.5em;\n",
              "  text-align: center;\n",
              "  /* unfitted */\n",
              "  border: var(--sklearn-color-unfitted-level-1) 1pt solid;\n",
              "  color: var(--sklearn-color-unfitted-level-1);\n",
              "}\n",
              "\n",
              ".sk-estimator-doc-link.fitted,\n",
              "a:link.sk-estimator-doc-link.fitted,\n",
              "a:visited.sk-estimator-doc-link.fitted {\n",
              "  /* fitted */\n",
              "  border: var(--sklearn-color-fitted-level-1) 1pt solid;\n",
              "  color: var(--sklearn-color-fitted-level-1);\n",
              "}\n",
              "\n",
              "/* On hover */\n",
              "div.sk-estimator:hover .sk-estimator-doc-link:hover,\n",
              ".sk-estimator-doc-link:hover,\n",
              "div.sk-label-container:hover .sk-estimator-doc-link:hover,\n",
              ".sk-estimator-doc-link:hover {\n",
              "  /* unfitted */\n",
              "  background-color: var(--sklearn-color-unfitted-level-3);\n",
              "  color: var(--sklearn-color-background);\n",
              "  text-decoration: none;\n",
              "}\n",
              "\n",
              "div.sk-estimator.fitted:hover .sk-estimator-doc-link.fitted:hover,\n",
              ".sk-estimator-doc-link.fitted:hover,\n",
              "div.sk-label-container:hover .sk-estimator-doc-link.fitted:hover,\n",
              ".sk-estimator-doc-link.fitted:hover {\n",
              "  /* fitted */\n",
              "  background-color: var(--sklearn-color-fitted-level-3);\n",
              "  color: var(--sklearn-color-background);\n",
              "  text-decoration: none;\n",
              "}\n",
              "\n",
              "/* Span, style for the box shown on hovering the info icon */\n",
              ".sk-estimator-doc-link span {\n",
              "  display: none;\n",
              "  z-index: 9999;\n",
              "  position: relative;\n",
              "  font-weight: normal;\n",
              "  right: .2ex;\n",
              "  padding: .5ex;\n",
              "  margin: .5ex;\n",
              "  width: min-content;\n",
              "  min-width: 20ex;\n",
              "  max-width: 50ex;\n",
              "  color: var(--sklearn-color-text);\n",
              "  box-shadow: 2pt 2pt 4pt #999;\n",
              "  /* unfitted */\n",
              "  background: var(--sklearn-color-unfitted-level-0);\n",
              "  border: .5pt solid var(--sklearn-color-unfitted-level-3);\n",
              "}\n",
              "\n",
              ".sk-estimator-doc-link.fitted span {\n",
              "  /* fitted */\n",
              "  background: var(--sklearn-color-fitted-level-0);\n",
              "  border: var(--sklearn-color-fitted-level-3);\n",
              "}\n",
              "\n",
              ".sk-estimator-doc-link:hover span {\n",
              "  display: block;\n",
              "}\n",
              "\n",
              "/* \"?\"-specific style due to the `<a>` HTML tag */\n",
              "\n",
              "#sk-container-id-2 a.estimator_doc_link {\n",
              "  float: right;\n",
              "  font-size: 1rem;\n",
              "  line-height: 1em;\n",
              "  font-family: monospace;\n",
              "  background-color: var(--sklearn-color-background);\n",
              "  border-radius: 1rem;\n",
              "  height: 1rem;\n",
              "  width: 1rem;\n",
              "  text-decoration: none;\n",
              "  /* unfitted */\n",
              "  color: var(--sklearn-color-unfitted-level-1);\n",
              "  border: var(--sklearn-color-unfitted-level-1) 1pt solid;\n",
              "}\n",
              "\n",
              "#sk-container-id-2 a.estimator_doc_link.fitted {\n",
              "  /* fitted */\n",
              "  border: var(--sklearn-color-fitted-level-1) 1pt solid;\n",
              "  color: var(--sklearn-color-fitted-level-1);\n",
              "}\n",
              "\n",
              "/* On hover */\n",
              "#sk-container-id-2 a.estimator_doc_link:hover {\n",
              "  /* unfitted */\n",
              "  background-color: var(--sklearn-color-unfitted-level-3);\n",
              "  color: var(--sklearn-color-background);\n",
              "  text-decoration: none;\n",
              "}\n",
              "\n",
              "#sk-container-id-2 a.estimator_doc_link.fitted:hover {\n",
              "  /* fitted */\n",
              "  background-color: var(--sklearn-color-fitted-level-3);\n",
              "}\n",
              "</style><div id=\"sk-container-id-2\" class=\"sk-top-container\"><div class=\"sk-text-repr-fallback\"><pre>SVC()</pre><b>In a Jupyter environment, please rerun this cell to show the HTML representation or trust the notebook. <br />On GitHub, the HTML representation is unable to render, please try loading this page with nbviewer.org.</b></div><div class=\"sk-container\" hidden><div class=\"sk-item\"><div class=\"sk-estimator fitted sk-toggleable\"><input class=\"sk-toggleable__control sk-hidden--visually\" id=\"sk-estimator-id-2\" type=\"checkbox\" checked><label for=\"sk-estimator-id-2\" class=\"sk-toggleable__label fitted sk-toggleable__label-arrow\"><div><div>SVC</div></div><div><a class=\"sk-estimator-doc-link fitted\" rel=\"noreferrer\" target=\"_blank\" href=\"https://scikit-learn.org/1.6/modules/generated/sklearn.svm.SVC.html\">?<span>Documentation for SVC</span></a><span class=\"sk-estimator-doc-link fitted\">i<span>Fitted</span></span></div></label><div class=\"sk-toggleable__content fitted\"><pre>SVC()</pre></div> </div></div></div></div>"
            ]
          },
          "metadata": {},
          "execution_count": 57
        }
      ],
      "source": [
        "#ENTER YOUR CODE HERE\n",
        "from sklearn.svm import SVC\n",
        "\n",
        "svm = SVC()\n",
        "svm.fit(x_train, y_train)\n"
      ]
    },
    {
      "cell_type": "markdown",
      "id": "3e4a26e4",
      "metadata": {
        "id": "3e4a26e4"
      },
      "source": [
        "**Just as we had before, load and fit a model on our training dataset.**"
      ]
    },
    {
      "cell_type": "code",
      "execution_count": 58,
      "id": "f36f65d6",
      "metadata": {
        "id": "f36f65d6"
      },
      "outputs": [],
      "source": [
        "#ENTER YOUR CODE HERE"
      ]
    },
    {
      "cell_type": "code",
      "execution_count": 59,
      "id": "38675144",
      "metadata": {
        "id": "38675144"
      },
      "outputs": [],
      "source": [
        "y_pred_svm = svm.predict(x_test)"
      ]
    },
    {
      "cell_type": "markdown",
      "id": "60f6fd01",
      "metadata": {
        "id": "60f6fd01"
      },
      "source": [
        "**Now test the model on the training dataset, and check the relevant metrics!**"
      ]
    },
    {
      "cell_type": "code",
      "execution_count": 60,
      "id": "e7b39e7c",
      "metadata": {
        "id": "e7b39e7c",
        "outputId": "a5c6ad7d-e9c4-403b-b979-d7909c18e552",
        "colab": {
          "base_uri": "https://localhost:8080/"
        }
      },
      "outputs": [
        {
          "output_type": "stream",
          "name": "stdout",
          "text": [
            "accuracy 0.7201492537313433\n",
            "F1 score 0.8010610079575596\n",
            "precision 0.7259615384615384\n",
            "recall  0.893491124260355\n"
          ]
        }
      ],
      "source": [
        "#ENTER YOUR CODE HERE\n",
        "print(\"accuracy\" ,accuracy_score(y_test ,y_pred_svm) )\n",
        "print(\"F1 score\" ,f1_score(y_test ,y_pred_svm) )\n",
        "print(\"precision\" ,precision_score(y_test ,y_pred_svm) )\n",
        "print(\"recall \" ,recall_score(y_test ,y_pred_svm) )"
      ]
    },
    {
      "cell_type": "code",
      "execution_count": 60,
      "id": "65956581",
      "metadata": {
        "id": "65956581"
      },
      "outputs": [],
      "source": []
    },
    {
      "cell_type": "markdown",
      "id": "19d6984e",
      "metadata": {
        "id": "19d6984e"
      },
      "source": [
        "### MULTICLASS CLASSIFICATION"
      ]
    },
    {
      "cell_type": "code",
      "execution_count": 61,
      "id": "0f74f848",
      "metadata": {
        "colab": {
          "base_uri": "https://localhost:8080/"
        },
        "id": "0f74f848",
        "outputId": "5a96679e-bf82-4564-be7a-8cb88d08ca12"
      },
      "outputs": [
        {
          "output_type": "stream",
          "name": "stdout",
          "text": [
            "Downloading...\n",
            "From: https://drive.google.com/uc?id=1bhWHfp1QS7ZHbNbxP_zFtEUAf76WfntC\n",
            "To: /content/social_well_being.csv\n",
            "\r  0% 0.00/43.1k [00:00<?, ?B/s]\r100% 43.1k/43.1k [00:00<00:00, 47.8MB/s]\n"
          ]
        }
      ],
      "source": [
        "! gdown 1bhWHfp1QS7ZHbNbxP_zFtEUAf76WfntC"
      ]
    },
    {
      "cell_type": "code",
      "execution_count": 61,
      "id": "6e85f95b",
      "metadata": {
        "id": "6e85f95b"
      },
      "outputs": [],
      "source": []
    },
    {
      "cell_type": "markdown",
      "id": "965a2a3e",
      "metadata": {
        "id": "965a2a3e"
      },
      "source": [
        "**Import the csv `social_well_being.csv` as a pandas dataframe.**"
      ]
    },
    {
      "cell_type": "code",
      "execution_count": 62,
      "id": "d8dcf919",
      "metadata": {
        "id": "d8dcf919"
      },
      "outputs": [],
      "source": [
        "#ENTER YOUR CODE HERE\n",
        "df_new = pd.read_csv('social_well_being.csv')"
      ]
    },
    {
      "cell_type": "markdown",
      "id": "321a910f",
      "metadata": {
        "id": "321a910f"
      },
      "source": [
        "**Always analyse the data.**"
      ]
    },
    {
      "cell_type": "code",
      "execution_count": 63,
      "id": "467c8c66",
      "metadata": {
        "id": "467c8c66",
        "outputId": "8dc684e1-87b8-4d7f-ad02-8182ef31ba5a",
        "colab": {
          "base_uri": "https://localhost:8080/"
        }
      },
      "outputs": [
        {
          "output_type": "stream",
          "name": "stdout",
          "text": [
            "<class 'pandas.core.frame.DataFrame'>\n",
            "RangeIndex: 924 entries, 0 to 923\n",
            "Data columns (total 10 columns):\n",
            " #   Column                      Non-Null Count  Dtype \n",
            "---  ------                      --------------  ----- \n",
            " 0   User_ID                     924 non-null    int64 \n",
            " 1   Age                         924 non-null    int64 \n",
            " 2   Gender                      924 non-null    object\n",
            " 3   Platform                    924 non-null    object\n",
            " 4   Daily_Usage_Time (minutes)  924 non-null    int64 \n",
            " 5   Posts_Per_Day               924 non-null    int64 \n",
            " 6   Likes_Received_Per_Day      924 non-null    int64 \n",
            " 7   Comments_Received_Per_Day   924 non-null    int64 \n",
            " 8   Messages_Sent_Per_Day       924 non-null    int64 \n",
            " 9   Dominant_Emotion            924 non-null    object\n",
            "dtypes: int64(7), object(3)\n",
            "memory usage: 72.3+ KB\n"
          ]
        }
      ],
      "source": [
        "#ENTER YOUR CODE HERE\n",
        "df_new.info()"
      ]
    },
    {
      "cell_type": "code",
      "execution_count": 64,
      "id": "cf99477c",
      "metadata": {
        "colab": {
          "base_uri": "https://localhost:8080/"
        },
        "id": "cf99477c",
        "outputId": "759738df-829e-4990-f9fa-1ed23c814406"
      },
      "outputs": [
        {
          "output_type": "execute_result",
          "data": {
            "text/plain": [
              "Index(['User_ID', 'Age', 'Gender', 'Platform', 'Daily_Usage_Time (minutes)',\n",
              "       'Posts_Per_Day', 'Likes_Received_Per_Day', 'Comments_Received_Per_Day',\n",
              "       'Messages_Sent_Per_Day', 'Dominant_Emotion'],\n",
              "      dtype='object')"
            ]
          },
          "metadata": {},
          "execution_count": 64
        }
      ],
      "source": [
        "df_new.columns"
      ]
    },
    {
      "cell_type": "code",
      "source": [],
      "metadata": {
        "id": "P8gjwxh1Y-ka"
      },
      "id": "P8gjwxh1Y-ka",
      "execution_count": 64,
      "outputs": []
    },
    {
      "cell_type": "code",
      "execution_count": 65,
      "id": "af924d91",
      "metadata": {
        "id": "af924d91"
      },
      "outputs": [],
      "source": [
        "df_new = df_new.drop(columns= ['User_ID'])"
      ]
    },
    {
      "cell_type": "code",
      "execution_count": 66,
      "id": "80919305",
      "metadata": {
        "colab": {
          "base_uri": "https://localhost:8080/",
          "height": 206
        },
        "id": "80919305",
        "outputId": "4dd24494-9222-4b3f-b373-e2261b6b9422"
      },
      "outputs": [
        {
          "output_type": "execute_result",
          "data": {
            "text/plain": [
              "   Age      Gender   Platform  Daily_Usage_Time (minutes)  Posts_Per_Day  \\\n",
              "0   25      Female  Instagram                         120              3   \n",
              "1   30        Male    Twitter                          90              5   \n",
              "2   22  Non-binary   Facebook                          60              2   \n",
              "3   28      Female  Instagram                         200              8   \n",
              "4   33        Male   LinkedIn                          45              1   \n",
              "\n",
              "   Likes_Received_Per_Day  Comments_Received_Per_Day  Messages_Sent_Per_Day  \\\n",
              "0                      45                         10                     12   \n",
              "1                      20                         25                     30   \n",
              "2                      15                          5                     20   \n",
              "3                     100                         30                     50   \n",
              "4                       5                          2                     10   \n",
              "\n",
              "  Dominant_Emotion  \n",
              "0        Happiness  \n",
              "1            Anger  \n",
              "2          Neutral  \n",
              "3          Anxiety  \n",
              "4          Boredom  "
            ],
            "text/html": [
              "\n",
              "  <div id=\"df-e0130629-ad9f-4450-ab62-e0726cb919b9\" class=\"colab-df-container\">\n",
              "    <div>\n",
              "<style scoped>\n",
              "    .dataframe tbody tr th:only-of-type {\n",
              "        vertical-align: middle;\n",
              "    }\n",
              "\n",
              "    .dataframe tbody tr th {\n",
              "        vertical-align: top;\n",
              "    }\n",
              "\n",
              "    .dataframe thead th {\n",
              "        text-align: right;\n",
              "    }\n",
              "</style>\n",
              "<table border=\"1\" class=\"dataframe\">\n",
              "  <thead>\n",
              "    <tr style=\"text-align: right;\">\n",
              "      <th></th>\n",
              "      <th>Age</th>\n",
              "      <th>Gender</th>\n",
              "      <th>Platform</th>\n",
              "      <th>Daily_Usage_Time (minutes)</th>\n",
              "      <th>Posts_Per_Day</th>\n",
              "      <th>Likes_Received_Per_Day</th>\n",
              "      <th>Comments_Received_Per_Day</th>\n",
              "      <th>Messages_Sent_Per_Day</th>\n",
              "      <th>Dominant_Emotion</th>\n",
              "    </tr>\n",
              "  </thead>\n",
              "  <tbody>\n",
              "    <tr>\n",
              "      <th>0</th>\n",
              "      <td>25</td>\n",
              "      <td>Female</td>\n",
              "      <td>Instagram</td>\n",
              "      <td>120</td>\n",
              "      <td>3</td>\n",
              "      <td>45</td>\n",
              "      <td>10</td>\n",
              "      <td>12</td>\n",
              "      <td>Happiness</td>\n",
              "    </tr>\n",
              "    <tr>\n",
              "      <th>1</th>\n",
              "      <td>30</td>\n",
              "      <td>Male</td>\n",
              "      <td>Twitter</td>\n",
              "      <td>90</td>\n",
              "      <td>5</td>\n",
              "      <td>20</td>\n",
              "      <td>25</td>\n",
              "      <td>30</td>\n",
              "      <td>Anger</td>\n",
              "    </tr>\n",
              "    <tr>\n",
              "      <th>2</th>\n",
              "      <td>22</td>\n",
              "      <td>Non-binary</td>\n",
              "      <td>Facebook</td>\n",
              "      <td>60</td>\n",
              "      <td>2</td>\n",
              "      <td>15</td>\n",
              "      <td>5</td>\n",
              "      <td>20</td>\n",
              "      <td>Neutral</td>\n",
              "    </tr>\n",
              "    <tr>\n",
              "      <th>3</th>\n",
              "      <td>28</td>\n",
              "      <td>Female</td>\n",
              "      <td>Instagram</td>\n",
              "      <td>200</td>\n",
              "      <td>8</td>\n",
              "      <td>100</td>\n",
              "      <td>30</td>\n",
              "      <td>50</td>\n",
              "      <td>Anxiety</td>\n",
              "    </tr>\n",
              "    <tr>\n",
              "      <th>4</th>\n",
              "      <td>33</td>\n",
              "      <td>Male</td>\n",
              "      <td>LinkedIn</td>\n",
              "      <td>45</td>\n",
              "      <td>1</td>\n",
              "      <td>5</td>\n",
              "      <td>2</td>\n",
              "      <td>10</td>\n",
              "      <td>Boredom</td>\n",
              "    </tr>\n",
              "  </tbody>\n",
              "</table>\n",
              "</div>\n",
              "    <div class=\"colab-df-buttons\">\n",
              "\n",
              "  <div class=\"colab-df-container\">\n",
              "    <button class=\"colab-df-convert\" onclick=\"convertToInteractive('df-e0130629-ad9f-4450-ab62-e0726cb919b9')\"\n",
              "            title=\"Convert this dataframe to an interactive table.\"\n",
              "            style=\"display:none;\">\n",
              "\n",
              "  <svg xmlns=\"http://www.w3.org/2000/svg\" height=\"24px\" viewBox=\"0 -960 960 960\">\n",
              "    <path d=\"M120-120v-720h720v720H120Zm60-500h600v-160H180v160Zm220 220h160v-160H400v160Zm0 220h160v-160H400v160ZM180-400h160v-160H180v160Zm440 0h160v-160H620v160ZM180-180h160v-160H180v160Zm440 0h160v-160H620v160Z\"/>\n",
              "  </svg>\n",
              "    </button>\n",
              "\n",
              "  <style>\n",
              "    .colab-df-container {\n",
              "      display:flex;\n",
              "      gap: 12px;\n",
              "    }\n",
              "\n",
              "    .colab-df-convert {\n",
              "      background-color: #E8F0FE;\n",
              "      border: none;\n",
              "      border-radius: 50%;\n",
              "      cursor: pointer;\n",
              "      display: none;\n",
              "      fill: #1967D2;\n",
              "      height: 32px;\n",
              "      padding: 0 0 0 0;\n",
              "      width: 32px;\n",
              "    }\n",
              "\n",
              "    .colab-df-convert:hover {\n",
              "      background-color: #E2EBFA;\n",
              "      box-shadow: 0px 1px 2px rgba(60, 64, 67, 0.3), 0px 1px 3px 1px rgba(60, 64, 67, 0.15);\n",
              "      fill: #174EA6;\n",
              "    }\n",
              "\n",
              "    .colab-df-buttons div {\n",
              "      margin-bottom: 4px;\n",
              "    }\n",
              "\n",
              "    [theme=dark] .colab-df-convert {\n",
              "      background-color: #3B4455;\n",
              "      fill: #D2E3FC;\n",
              "    }\n",
              "\n",
              "    [theme=dark] .colab-df-convert:hover {\n",
              "      background-color: #434B5C;\n",
              "      box-shadow: 0px 1px 3px 1px rgba(0, 0, 0, 0.15);\n",
              "      filter: drop-shadow(0px 1px 2px rgba(0, 0, 0, 0.3));\n",
              "      fill: #FFFFFF;\n",
              "    }\n",
              "  </style>\n",
              "\n",
              "    <script>\n",
              "      const buttonEl =\n",
              "        document.querySelector('#df-e0130629-ad9f-4450-ab62-e0726cb919b9 button.colab-df-convert');\n",
              "      buttonEl.style.display =\n",
              "        google.colab.kernel.accessAllowed ? 'block' : 'none';\n",
              "\n",
              "      async function convertToInteractive(key) {\n",
              "        const element = document.querySelector('#df-e0130629-ad9f-4450-ab62-e0726cb919b9');\n",
              "        const dataTable =\n",
              "          await google.colab.kernel.invokeFunction('convertToInteractive',\n",
              "                                                    [key], {});\n",
              "        if (!dataTable) return;\n",
              "\n",
              "        const docLinkHtml = 'Like what you see? Visit the ' +\n",
              "          '<a target=\"_blank\" href=https://colab.research.google.com/notebooks/data_table.ipynb>data table notebook</a>'\n",
              "          + ' to learn more about interactive tables.';\n",
              "        element.innerHTML = '';\n",
              "        dataTable['output_type'] = 'display_data';\n",
              "        await google.colab.output.renderOutput(dataTable, element);\n",
              "        const docLink = document.createElement('div');\n",
              "        docLink.innerHTML = docLinkHtml;\n",
              "        element.appendChild(docLink);\n",
              "      }\n",
              "    </script>\n",
              "  </div>\n",
              "\n",
              "\n",
              "    <div id=\"df-31d66e12-808a-4a12-9cfd-a2d4db87ec7b\">\n",
              "      <button class=\"colab-df-quickchart\" onclick=\"quickchart('df-31d66e12-808a-4a12-9cfd-a2d4db87ec7b')\"\n",
              "                title=\"Suggest charts\"\n",
              "                style=\"display:none;\">\n",
              "\n",
              "<svg xmlns=\"http://www.w3.org/2000/svg\" height=\"24px\"viewBox=\"0 0 24 24\"\n",
              "     width=\"24px\">\n",
              "    <g>\n",
              "        <path d=\"M19 3H5c-1.1 0-2 .9-2 2v14c0 1.1.9 2 2 2h14c1.1 0 2-.9 2-2V5c0-1.1-.9-2-2-2zM9 17H7v-7h2v7zm4 0h-2V7h2v10zm4 0h-2v-4h2v4z\"/>\n",
              "    </g>\n",
              "</svg>\n",
              "      </button>\n",
              "\n",
              "<style>\n",
              "  .colab-df-quickchart {\n",
              "      --bg-color: #E8F0FE;\n",
              "      --fill-color: #1967D2;\n",
              "      --hover-bg-color: #E2EBFA;\n",
              "      --hover-fill-color: #174EA6;\n",
              "      --disabled-fill-color: #AAA;\n",
              "      --disabled-bg-color: #DDD;\n",
              "  }\n",
              "\n",
              "  [theme=dark] .colab-df-quickchart {\n",
              "      --bg-color: #3B4455;\n",
              "      --fill-color: #D2E3FC;\n",
              "      --hover-bg-color: #434B5C;\n",
              "      --hover-fill-color: #FFFFFF;\n",
              "      --disabled-bg-color: #3B4455;\n",
              "      --disabled-fill-color: #666;\n",
              "  }\n",
              "\n",
              "  .colab-df-quickchart {\n",
              "    background-color: var(--bg-color);\n",
              "    border: none;\n",
              "    border-radius: 50%;\n",
              "    cursor: pointer;\n",
              "    display: none;\n",
              "    fill: var(--fill-color);\n",
              "    height: 32px;\n",
              "    padding: 0;\n",
              "    width: 32px;\n",
              "  }\n",
              "\n",
              "  .colab-df-quickchart:hover {\n",
              "    background-color: var(--hover-bg-color);\n",
              "    box-shadow: 0 1px 2px rgba(60, 64, 67, 0.3), 0 1px 3px 1px rgba(60, 64, 67, 0.15);\n",
              "    fill: var(--button-hover-fill-color);\n",
              "  }\n",
              "\n",
              "  .colab-df-quickchart-complete:disabled,\n",
              "  .colab-df-quickchart-complete:disabled:hover {\n",
              "    background-color: var(--disabled-bg-color);\n",
              "    fill: var(--disabled-fill-color);\n",
              "    box-shadow: none;\n",
              "  }\n",
              "\n",
              "  .colab-df-spinner {\n",
              "    border: 2px solid var(--fill-color);\n",
              "    border-color: transparent;\n",
              "    border-bottom-color: var(--fill-color);\n",
              "    animation:\n",
              "      spin 1s steps(1) infinite;\n",
              "  }\n",
              "\n",
              "  @keyframes spin {\n",
              "    0% {\n",
              "      border-color: transparent;\n",
              "      border-bottom-color: var(--fill-color);\n",
              "      border-left-color: var(--fill-color);\n",
              "    }\n",
              "    20% {\n",
              "      border-color: transparent;\n",
              "      border-left-color: var(--fill-color);\n",
              "      border-top-color: var(--fill-color);\n",
              "    }\n",
              "    30% {\n",
              "      border-color: transparent;\n",
              "      border-left-color: var(--fill-color);\n",
              "      border-top-color: var(--fill-color);\n",
              "      border-right-color: var(--fill-color);\n",
              "    }\n",
              "    40% {\n",
              "      border-color: transparent;\n",
              "      border-right-color: var(--fill-color);\n",
              "      border-top-color: var(--fill-color);\n",
              "    }\n",
              "    60% {\n",
              "      border-color: transparent;\n",
              "      border-right-color: var(--fill-color);\n",
              "    }\n",
              "    80% {\n",
              "      border-color: transparent;\n",
              "      border-right-color: var(--fill-color);\n",
              "      border-bottom-color: var(--fill-color);\n",
              "    }\n",
              "    90% {\n",
              "      border-color: transparent;\n",
              "      border-bottom-color: var(--fill-color);\n",
              "    }\n",
              "  }\n",
              "</style>\n",
              "\n",
              "      <script>\n",
              "        async function quickchart(key) {\n",
              "          const quickchartButtonEl =\n",
              "            document.querySelector('#' + key + ' button');\n",
              "          quickchartButtonEl.disabled = true;  // To prevent multiple clicks.\n",
              "          quickchartButtonEl.classList.add('colab-df-spinner');\n",
              "          try {\n",
              "            const charts = await google.colab.kernel.invokeFunction(\n",
              "                'suggestCharts', [key], {});\n",
              "          } catch (error) {\n",
              "            console.error('Error during call to suggestCharts:', error);\n",
              "          }\n",
              "          quickchartButtonEl.classList.remove('colab-df-spinner');\n",
              "          quickchartButtonEl.classList.add('colab-df-quickchart-complete');\n",
              "        }\n",
              "        (() => {\n",
              "          let quickchartButtonEl =\n",
              "            document.querySelector('#df-31d66e12-808a-4a12-9cfd-a2d4db87ec7b button');\n",
              "          quickchartButtonEl.style.display =\n",
              "            google.colab.kernel.accessAllowed ? 'block' : 'none';\n",
              "        })();\n",
              "      </script>\n",
              "    </div>\n",
              "\n",
              "    </div>\n",
              "  </div>\n"
            ],
            "application/vnd.google.colaboratory.intrinsic+json": {
              "type": "dataframe",
              "variable_name": "df_new",
              "summary": "{\n  \"name\": \"df_new\",\n  \"rows\": 924,\n  \"fields\": [\n    {\n      \"column\": \"Age\",\n      \"properties\": {\n        \"dtype\": \"number\",\n        \"std\": 3,\n        \"min\": 21,\n        \"max\": 35,\n        \"num_unique_values\": 15,\n        \"samples\": [\n          31,\n          26,\n          25\n        ],\n        \"semantic_type\": \"\",\n        \"description\": \"\"\n      }\n    },\n    {\n      \"column\": \"Gender\",\n      \"properties\": {\n        \"dtype\": \"category\",\n        \"num_unique_values\": 3,\n        \"samples\": [\n          \"Female\",\n          \"Male\",\n          \"Non-binary\"\n        ],\n        \"semantic_type\": \"\",\n        \"description\": \"\"\n      }\n    },\n    {\n      \"column\": \"Platform\",\n      \"properties\": {\n        \"dtype\": \"category\",\n        \"num_unique_values\": 7,\n        \"samples\": [\n          \"Instagram\",\n          \"Twitter\",\n          \"Telegram\"\n        ],\n        \"semantic_type\": \"\",\n        \"description\": \"\"\n      }\n    },\n    {\n      \"column\": \"Daily_Usage_Time (minutes)\",\n      \"properties\": {\n        \"dtype\": \"number\",\n        \"std\": 39,\n        \"min\": 40,\n        \"max\": 200,\n        \"num_unique_values\": 30,\n        \"samples\": [\n          175,\n          40,\n          160\n        ],\n        \"semantic_type\": \"\",\n        \"description\": \"\"\n      }\n    },\n    {\n      \"column\": \"Posts_Per_Day\",\n      \"properties\": {\n        \"dtype\": \"number\",\n        \"std\": 1,\n        \"min\": 1,\n        \"max\": 8,\n        \"num_unique_values\": 8,\n        \"samples\": [\n          5,\n          4,\n          3\n        ],\n        \"semantic_type\": \"\",\n        \"description\": \"\"\n      }\n    },\n    {\n      \"column\": \"Likes_Received_Per_Day\",\n      \"properties\": {\n        \"dtype\": \"number\",\n        \"std\": 26,\n        \"min\": 5,\n        \"max\": 110,\n        \"num_unique_values\": 49,\n        \"samples\": [\n          40,\n          21,\n          23\n        ],\n        \"semantic_type\": \"\",\n        \"description\": \"\"\n      }\n    },\n    {\n      \"column\": \"Comments_Received_Per_Day\",\n      \"properties\": {\n        \"dtype\": \"number\",\n        \"std\": 8,\n        \"min\": 2,\n        \"max\": 40,\n        \"num_unique_values\": 30,\n        \"samples\": [\n          28,\n          26,\n          40\n        ],\n        \"semantic_type\": \"\",\n        \"description\": \"\"\n      }\n    },\n    {\n      \"column\": \"Messages_Sent_Per_Day\",\n      \"properties\": {\n        \"dtype\": \"number\",\n        \"std\": 8,\n        \"min\": 8,\n        \"max\": 50,\n        \"num_unique_values\": 29,\n        \"samples\": [\n          29,\n          21,\n          28\n        ],\n        \"semantic_type\": \"\",\n        \"description\": \"\"\n      }\n    },\n    {\n      \"column\": \"Dominant_Emotion\",\n      \"properties\": {\n        \"dtype\": \"category\",\n        \"num_unique_values\": 6,\n        \"samples\": [\n          \"Happiness\",\n          \"Anger\",\n          \"Sadness\"\n        ],\n        \"semantic_type\": \"\",\n        \"description\": \"\"\n      }\n    }\n  ]\n}"
            }
          },
          "metadata": {},
          "execution_count": 66
        }
      ],
      "source": [
        "df_new.head()"
      ]
    },
    {
      "cell_type": "code",
      "source": [
        "df_new.tail()\n"
      ],
      "metadata": {
        "id": "f4f5WXJdt65V",
        "outputId": "dcb869a5-015b-4b09-8bc6-9775c0f8534b",
        "colab": {
          "base_uri": "https://localhost:8080/",
          "height": 206
        }
      },
      "id": "f4f5WXJdt65V",
      "execution_count": 67,
      "outputs": [
        {
          "output_type": "execute_result",
          "data": {
            "text/plain": [
              "     Age      Gender  Platform  Daily_Usage_Time (minutes)  Posts_Per_Day  \\\n",
              "919   33  Non-binary   Twitter                          85              4   \n",
              "920   22      Female  Facebook                          70              1   \n",
              "921   35        Male  Whatsapp                         110              3   \n",
              "922   28  Non-binary  Telegram                          60              2   \n",
              "923   27      Female  Snapchat                         120              4   \n",
              "\n",
              "     Likes_Received_Per_Day  Comments_Received_Per_Day  Messages_Sent_Per_Day  \\\n",
              "919                      35                         18                     18   \n",
              "920                      14                          6                     10   \n",
              "921                      50                         25                     25   \n",
              "922                      18                          8                     18   \n",
              "923                      40                         18                     22   \n",
              "\n",
              "    Dominant_Emotion  \n",
              "919          Boredom  \n",
              "920          Neutral  \n",
              "921        Happiness  \n",
              "922            Anger  \n",
              "923          Neutral  "
            ],
            "text/html": [
              "\n",
              "  <div id=\"df-d3c01cda-0a81-485c-a527-546144d5f66a\" class=\"colab-df-container\">\n",
              "    <div>\n",
              "<style scoped>\n",
              "    .dataframe tbody tr th:only-of-type {\n",
              "        vertical-align: middle;\n",
              "    }\n",
              "\n",
              "    .dataframe tbody tr th {\n",
              "        vertical-align: top;\n",
              "    }\n",
              "\n",
              "    .dataframe thead th {\n",
              "        text-align: right;\n",
              "    }\n",
              "</style>\n",
              "<table border=\"1\" class=\"dataframe\">\n",
              "  <thead>\n",
              "    <tr style=\"text-align: right;\">\n",
              "      <th></th>\n",
              "      <th>Age</th>\n",
              "      <th>Gender</th>\n",
              "      <th>Platform</th>\n",
              "      <th>Daily_Usage_Time (minutes)</th>\n",
              "      <th>Posts_Per_Day</th>\n",
              "      <th>Likes_Received_Per_Day</th>\n",
              "      <th>Comments_Received_Per_Day</th>\n",
              "      <th>Messages_Sent_Per_Day</th>\n",
              "      <th>Dominant_Emotion</th>\n",
              "    </tr>\n",
              "  </thead>\n",
              "  <tbody>\n",
              "    <tr>\n",
              "      <th>919</th>\n",
              "      <td>33</td>\n",
              "      <td>Non-binary</td>\n",
              "      <td>Twitter</td>\n",
              "      <td>85</td>\n",
              "      <td>4</td>\n",
              "      <td>35</td>\n",
              "      <td>18</td>\n",
              "      <td>18</td>\n",
              "      <td>Boredom</td>\n",
              "    </tr>\n",
              "    <tr>\n",
              "      <th>920</th>\n",
              "      <td>22</td>\n",
              "      <td>Female</td>\n",
              "      <td>Facebook</td>\n",
              "      <td>70</td>\n",
              "      <td>1</td>\n",
              "      <td>14</td>\n",
              "      <td>6</td>\n",
              "      <td>10</td>\n",
              "      <td>Neutral</td>\n",
              "    </tr>\n",
              "    <tr>\n",
              "      <th>921</th>\n",
              "      <td>35</td>\n",
              "      <td>Male</td>\n",
              "      <td>Whatsapp</td>\n",
              "      <td>110</td>\n",
              "      <td>3</td>\n",
              "      <td>50</td>\n",
              "      <td>25</td>\n",
              "      <td>25</td>\n",
              "      <td>Happiness</td>\n",
              "    </tr>\n",
              "    <tr>\n",
              "      <th>922</th>\n",
              "      <td>28</td>\n",
              "      <td>Non-binary</td>\n",
              "      <td>Telegram</td>\n",
              "      <td>60</td>\n",
              "      <td>2</td>\n",
              "      <td>18</td>\n",
              "      <td>8</td>\n",
              "      <td>18</td>\n",
              "      <td>Anger</td>\n",
              "    </tr>\n",
              "    <tr>\n",
              "      <th>923</th>\n",
              "      <td>27</td>\n",
              "      <td>Female</td>\n",
              "      <td>Snapchat</td>\n",
              "      <td>120</td>\n",
              "      <td>4</td>\n",
              "      <td>40</td>\n",
              "      <td>18</td>\n",
              "      <td>22</td>\n",
              "      <td>Neutral</td>\n",
              "    </tr>\n",
              "  </tbody>\n",
              "</table>\n",
              "</div>\n",
              "    <div class=\"colab-df-buttons\">\n",
              "\n",
              "  <div class=\"colab-df-container\">\n",
              "    <button class=\"colab-df-convert\" onclick=\"convertToInteractive('df-d3c01cda-0a81-485c-a527-546144d5f66a')\"\n",
              "            title=\"Convert this dataframe to an interactive table.\"\n",
              "            style=\"display:none;\">\n",
              "\n",
              "  <svg xmlns=\"http://www.w3.org/2000/svg\" height=\"24px\" viewBox=\"0 -960 960 960\">\n",
              "    <path d=\"M120-120v-720h720v720H120Zm60-500h600v-160H180v160Zm220 220h160v-160H400v160Zm0 220h160v-160H400v160ZM180-400h160v-160H180v160Zm440 0h160v-160H620v160ZM180-180h160v-160H180v160Zm440 0h160v-160H620v160Z\"/>\n",
              "  </svg>\n",
              "    </button>\n",
              "\n",
              "  <style>\n",
              "    .colab-df-container {\n",
              "      display:flex;\n",
              "      gap: 12px;\n",
              "    }\n",
              "\n",
              "    .colab-df-convert {\n",
              "      background-color: #E8F0FE;\n",
              "      border: none;\n",
              "      border-radius: 50%;\n",
              "      cursor: pointer;\n",
              "      display: none;\n",
              "      fill: #1967D2;\n",
              "      height: 32px;\n",
              "      padding: 0 0 0 0;\n",
              "      width: 32px;\n",
              "    }\n",
              "\n",
              "    .colab-df-convert:hover {\n",
              "      background-color: #E2EBFA;\n",
              "      box-shadow: 0px 1px 2px rgba(60, 64, 67, 0.3), 0px 1px 3px 1px rgba(60, 64, 67, 0.15);\n",
              "      fill: #174EA6;\n",
              "    }\n",
              "\n",
              "    .colab-df-buttons div {\n",
              "      margin-bottom: 4px;\n",
              "    }\n",
              "\n",
              "    [theme=dark] .colab-df-convert {\n",
              "      background-color: #3B4455;\n",
              "      fill: #D2E3FC;\n",
              "    }\n",
              "\n",
              "    [theme=dark] .colab-df-convert:hover {\n",
              "      background-color: #434B5C;\n",
              "      box-shadow: 0px 1px 3px 1px rgba(0, 0, 0, 0.15);\n",
              "      filter: drop-shadow(0px 1px 2px rgba(0, 0, 0, 0.3));\n",
              "      fill: #FFFFFF;\n",
              "    }\n",
              "  </style>\n",
              "\n",
              "    <script>\n",
              "      const buttonEl =\n",
              "        document.querySelector('#df-d3c01cda-0a81-485c-a527-546144d5f66a button.colab-df-convert');\n",
              "      buttonEl.style.display =\n",
              "        google.colab.kernel.accessAllowed ? 'block' : 'none';\n",
              "\n",
              "      async function convertToInteractive(key) {\n",
              "        const element = document.querySelector('#df-d3c01cda-0a81-485c-a527-546144d5f66a');\n",
              "        const dataTable =\n",
              "          await google.colab.kernel.invokeFunction('convertToInteractive',\n",
              "                                                    [key], {});\n",
              "        if (!dataTable) return;\n",
              "\n",
              "        const docLinkHtml = 'Like what you see? Visit the ' +\n",
              "          '<a target=\"_blank\" href=https://colab.research.google.com/notebooks/data_table.ipynb>data table notebook</a>'\n",
              "          + ' to learn more about interactive tables.';\n",
              "        element.innerHTML = '';\n",
              "        dataTable['output_type'] = 'display_data';\n",
              "        await google.colab.output.renderOutput(dataTable, element);\n",
              "        const docLink = document.createElement('div');\n",
              "        docLink.innerHTML = docLinkHtml;\n",
              "        element.appendChild(docLink);\n",
              "      }\n",
              "    </script>\n",
              "  </div>\n",
              "\n",
              "\n",
              "    <div id=\"df-64f28871-0d04-42b5-82b1-9477201bb81f\">\n",
              "      <button class=\"colab-df-quickchart\" onclick=\"quickchart('df-64f28871-0d04-42b5-82b1-9477201bb81f')\"\n",
              "                title=\"Suggest charts\"\n",
              "                style=\"display:none;\">\n",
              "\n",
              "<svg xmlns=\"http://www.w3.org/2000/svg\" height=\"24px\"viewBox=\"0 0 24 24\"\n",
              "     width=\"24px\">\n",
              "    <g>\n",
              "        <path d=\"M19 3H5c-1.1 0-2 .9-2 2v14c0 1.1.9 2 2 2h14c1.1 0 2-.9 2-2V5c0-1.1-.9-2-2-2zM9 17H7v-7h2v7zm4 0h-2V7h2v10zm4 0h-2v-4h2v4z\"/>\n",
              "    </g>\n",
              "</svg>\n",
              "      </button>\n",
              "\n",
              "<style>\n",
              "  .colab-df-quickchart {\n",
              "      --bg-color: #E8F0FE;\n",
              "      --fill-color: #1967D2;\n",
              "      --hover-bg-color: #E2EBFA;\n",
              "      --hover-fill-color: #174EA6;\n",
              "      --disabled-fill-color: #AAA;\n",
              "      --disabled-bg-color: #DDD;\n",
              "  }\n",
              "\n",
              "  [theme=dark] .colab-df-quickchart {\n",
              "      --bg-color: #3B4455;\n",
              "      --fill-color: #D2E3FC;\n",
              "      --hover-bg-color: #434B5C;\n",
              "      --hover-fill-color: #FFFFFF;\n",
              "      --disabled-bg-color: #3B4455;\n",
              "      --disabled-fill-color: #666;\n",
              "  }\n",
              "\n",
              "  .colab-df-quickchart {\n",
              "    background-color: var(--bg-color);\n",
              "    border: none;\n",
              "    border-radius: 50%;\n",
              "    cursor: pointer;\n",
              "    display: none;\n",
              "    fill: var(--fill-color);\n",
              "    height: 32px;\n",
              "    padding: 0;\n",
              "    width: 32px;\n",
              "  }\n",
              "\n",
              "  .colab-df-quickchart:hover {\n",
              "    background-color: var(--hover-bg-color);\n",
              "    box-shadow: 0 1px 2px rgba(60, 64, 67, 0.3), 0 1px 3px 1px rgba(60, 64, 67, 0.15);\n",
              "    fill: var(--button-hover-fill-color);\n",
              "  }\n",
              "\n",
              "  .colab-df-quickchart-complete:disabled,\n",
              "  .colab-df-quickchart-complete:disabled:hover {\n",
              "    background-color: var(--disabled-bg-color);\n",
              "    fill: var(--disabled-fill-color);\n",
              "    box-shadow: none;\n",
              "  }\n",
              "\n",
              "  .colab-df-spinner {\n",
              "    border: 2px solid var(--fill-color);\n",
              "    border-color: transparent;\n",
              "    border-bottom-color: var(--fill-color);\n",
              "    animation:\n",
              "      spin 1s steps(1) infinite;\n",
              "  }\n",
              "\n",
              "  @keyframes spin {\n",
              "    0% {\n",
              "      border-color: transparent;\n",
              "      border-bottom-color: var(--fill-color);\n",
              "      border-left-color: var(--fill-color);\n",
              "    }\n",
              "    20% {\n",
              "      border-color: transparent;\n",
              "      border-left-color: var(--fill-color);\n",
              "      border-top-color: var(--fill-color);\n",
              "    }\n",
              "    30% {\n",
              "      border-color: transparent;\n",
              "      border-left-color: var(--fill-color);\n",
              "      border-top-color: var(--fill-color);\n",
              "      border-right-color: var(--fill-color);\n",
              "    }\n",
              "    40% {\n",
              "      border-color: transparent;\n",
              "      border-right-color: var(--fill-color);\n",
              "      border-top-color: var(--fill-color);\n",
              "    }\n",
              "    60% {\n",
              "      border-color: transparent;\n",
              "      border-right-color: var(--fill-color);\n",
              "    }\n",
              "    80% {\n",
              "      border-color: transparent;\n",
              "      border-right-color: var(--fill-color);\n",
              "      border-bottom-color: var(--fill-color);\n",
              "    }\n",
              "    90% {\n",
              "      border-color: transparent;\n",
              "      border-bottom-color: var(--fill-color);\n",
              "    }\n",
              "  }\n",
              "</style>\n",
              "\n",
              "      <script>\n",
              "        async function quickchart(key) {\n",
              "          const quickchartButtonEl =\n",
              "            document.querySelector('#' + key + ' button');\n",
              "          quickchartButtonEl.disabled = true;  // To prevent multiple clicks.\n",
              "          quickchartButtonEl.classList.add('colab-df-spinner');\n",
              "          try {\n",
              "            const charts = await google.colab.kernel.invokeFunction(\n",
              "                'suggestCharts', [key], {});\n",
              "          } catch (error) {\n",
              "            console.error('Error during call to suggestCharts:', error);\n",
              "          }\n",
              "          quickchartButtonEl.classList.remove('colab-df-spinner');\n",
              "          quickchartButtonEl.classList.add('colab-df-quickchart-complete');\n",
              "        }\n",
              "        (() => {\n",
              "          let quickchartButtonEl =\n",
              "            document.querySelector('#df-64f28871-0d04-42b5-82b1-9477201bb81f button');\n",
              "          quickchartButtonEl.style.display =\n",
              "            google.colab.kernel.accessAllowed ? 'block' : 'none';\n",
              "        })();\n",
              "      </script>\n",
              "    </div>\n",
              "\n",
              "    </div>\n",
              "  </div>\n"
            ],
            "application/vnd.google.colaboratory.intrinsic+json": {
              "type": "dataframe",
              "summary": "{\n  \"name\": \"df_new\",\n  \"rows\": 5,\n  \"fields\": [\n    {\n      \"column\": \"Age\",\n      \"properties\": {\n        \"dtype\": \"number\",\n        \"std\": 5,\n        \"min\": 22,\n        \"max\": 35,\n        \"num_unique_values\": 5,\n        \"samples\": [\n          22,\n          27,\n          35\n        ],\n        \"semantic_type\": \"\",\n        \"description\": \"\"\n      }\n    },\n    {\n      \"column\": \"Gender\",\n      \"properties\": {\n        \"dtype\": \"string\",\n        \"num_unique_values\": 3,\n        \"samples\": [\n          \"Non-binary\",\n          \"Female\",\n          \"Male\"\n        ],\n        \"semantic_type\": \"\",\n        \"description\": \"\"\n      }\n    },\n    {\n      \"column\": \"Platform\",\n      \"properties\": {\n        \"dtype\": \"string\",\n        \"num_unique_values\": 5,\n        \"samples\": [\n          \"Facebook\",\n          \"Snapchat\",\n          \"Whatsapp\"\n        ],\n        \"semantic_type\": \"\",\n        \"description\": \"\"\n      }\n    },\n    {\n      \"column\": \"Daily_Usage_Time (minutes)\",\n      \"properties\": {\n        \"dtype\": \"number\",\n        \"std\": 25,\n        \"min\": 60,\n        \"max\": 120,\n        \"num_unique_values\": 5,\n        \"samples\": [\n          70,\n          120,\n          110\n        ],\n        \"semantic_type\": \"\",\n        \"description\": \"\"\n      }\n    },\n    {\n      \"column\": \"Posts_Per_Day\",\n      \"properties\": {\n        \"dtype\": \"number\",\n        \"std\": 1,\n        \"min\": 1,\n        \"max\": 4,\n        \"num_unique_values\": 4,\n        \"samples\": [\n          1,\n          2,\n          4\n        ],\n        \"semantic_type\": \"\",\n        \"description\": \"\"\n      }\n    },\n    {\n      \"column\": \"Likes_Received_Per_Day\",\n      \"properties\": {\n        \"dtype\": \"number\",\n        \"std\": 15,\n        \"min\": 14,\n        \"max\": 50,\n        \"num_unique_values\": 5,\n        \"samples\": [\n          14,\n          40,\n          50\n        ],\n        \"semantic_type\": \"\",\n        \"description\": \"\"\n      }\n    },\n    {\n      \"column\": \"Comments_Received_Per_Day\",\n      \"properties\": {\n        \"dtype\": \"number\",\n        \"std\": 7,\n        \"min\": 6,\n        \"max\": 25,\n        \"num_unique_values\": 4,\n        \"samples\": [\n          6,\n          8,\n          18\n        ],\n        \"semantic_type\": \"\",\n        \"description\": \"\"\n      }\n    },\n    {\n      \"column\": \"Messages_Sent_Per_Day\",\n      \"properties\": {\n        \"dtype\": \"number\",\n        \"std\": 5,\n        \"min\": 10,\n        \"max\": 25,\n        \"num_unique_values\": 4,\n        \"samples\": [\n          10,\n          22,\n          18\n        ],\n        \"semantic_type\": \"\",\n        \"description\": \"\"\n      }\n    },\n    {\n      \"column\": \"Dominant_Emotion\",\n      \"properties\": {\n        \"dtype\": \"string\",\n        \"num_unique_values\": 4,\n        \"samples\": [\n          \"Neutral\",\n          \"Anger\",\n          \"Boredom\"\n        ],\n        \"semantic_type\": \"\",\n        \"description\": \"\"\n      }\n    }\n  ]\n}"
            }
          },
          "metadata": {},
          "execution_count": 67
        }
      ]
    },
    {
      "cell_type": "code",
      "source": [
        "print(df_new.columns.tolist())"
      ],
      "metadata": {
        "id": "6F-NJUnmvBkU",
        "outputId": "ad43573f-2273-48be-a1be-678be7e9a2ee",
        "colab": {
          "base_uri": "https://localhost:8080/"
        }
      },
      "id": "6F-NJUnmvBkU",
      "execution_count": 68,
      "outputs": [
        {
          "output_type": "stream",
          "name": "stdout",
          "text": [
            "['Age', 'Gender', 'Platform', 'Daily_Usage_Time (minutes)', 'Posts_Per_Day', 'Likes_Received_Per_Day', 'Comments_Received_Per_Day', 'Messages_Sent_Per_Day', 'Dominant_Emotion']\n"
          ]
        }
      ]
    },
    {
      "cell_type": "markdown",
      "id": "8b103775",
      "metadata": {
        "id": "8b103775"
      },
      "source": [
        "Since its multiclass-classification, the classes column 'Dominant_Emotion' has more than two classes.\n",
        "\n",
        "**Can you find out what these classes are?**"
      ]
    },
    {
      "cell_type": "code",
      "execution_count": 69,
      "id": "b937f339",
      "metadata": {
        "id": "b937f339",
        "outputId": "7e5a22fb-c0c1-4c1f-81c9-04a1875046e5",
        "colab": {
          "base_uri": "https://localhost:8080/"
        }
      },
      "outputs": [
        {
          "output_type": "execute_result",
          "data": {
            "text/plain": [
              "array(['Happiness', 'Anger', 'Neutral', 'Anxiety', 'Boredom', 'Sadness'],\n",
              "      dtype=object)"
            ]
          },
          "metadata": {},
          "execution_count": 69
        }
      ],
      "source": [
        "#ENTER YOUR CODE HERE\n",
        "df_new['Dominant_Emotion'].unique()\n"
      ]
    },
    {
      "cell_type": "code",
      "execution_count": 69,
      "id": "52f3cfbc",
      "metadata": {
        "id": "52f3cfbc"
      },
      "outputs": [],
      "source": []
    },
    {
      "cell_type": "markdown",
      "id": "14ea261c",
      "metadata": {
        "id": "14ea261c"
      },
      "source": [
        "Actually this isn't the only categorical column in the dataset. There are other too.\n",
        "\n",
        "**Print their values as well!**"
      ]
    },
    {
      "cell_type": "code",
      "execution_count": 70,
      "id": "9f1999db",
      "metadata": {
        "id": "9f1999db"
      },
      "outputs": [],
      "source": [
        "#ENTER YOUR CODE HERE"
      ]
    },
    {
      "cell_type": "code",
      "execution_count": 71,
      "id": "1436646a",
      "metadata": {
        "colab": {
          "base_uri": "https://localhost:8080/"
        },
        "id": "1436646a",
        "outputId": "052f080e-6c67-43a3-a041-c363d237ac56"
      },
      "outputs": [
        {
          "output_type": "execute_result",
          "data": {
            "text/plain": [
              "array(['Female', 'Male', 'Non-binary'], dtype=object)"
            ]
          },
          "metadata": {},
          "execution_count": 71
        }
      ],
      "source": [
        "df_new['Gender'].unique()"
      ]
    },
    {
      "cell_type": "markdown",
      "id": "89312ac6",
      "metadata": {
        "id": "89312ac6"
      },
      "source": [
        "Many models, including KNN, will only work with numerical data. Hence the textual categories need to go. We will use something called \"one-hot encoding\" for transforming our features and \"labelling\" for our categories.\n",
        "\n",
        "**Import the pandas module used for one-hot encoding**"
      ]
    },
    {
      "cell_type": "code",
      "execution_count": 72,
      "id": "540454bc",
      "metadata": {
        "id": "540454bc"
      },
      "outputs": [],
      "source": [
        "#ENTER YOUR CODE HERE"
      ]
    },
    {
      "cell_type": "markdown",
      "id": "b40c32ee",
      "metadata": {
        "id": "b40c32ee"
      },
      "source": [
        "**First One-Hot Encode the 'Gender' column and replace the 'Gender' column with this.**"
      ]
    },
    {
      "cell_type": "code",
      "source": [
        "df_new = pd.get_dummies(df_new , columns=['Gender'] , drop_first=False)"
      ],
      "metadata": {
        "id": "BlY8Lexp1vRi"
      },
      "id": "BlY8Lexp1vRi",
      "execution_count": 73,
      "outputs": []
    },
    {
      "cell_type": "markdown",
      "source": [
        "#ENTER YOUR CODE HERE\n",
        "df_new = pd.get_dummies(df_new, columns=['Gender'])"
      ],
      "metadata": {
        "id": "d2b5f376"
      },
      "id": "d2b5f376"
    },
    {
      "cell_type": "code",
      "execution_count": 73,
      "id": "0ff7889d",
      "metadata": {
        "id": "0ff7889d"
      },
      "outputs": [],
      "source": []
    },
    {
      "cell_type": "markdown",
      "id": "e95e02f3",
      "metadata": {
        "id": "e95e02f3"
      },
      "source": [
        "**Repeat the drill for the column 'Platform'.**"
      ]
    },
    {
      "cell_type": "code",
      "execution_count": 74,
      "id": "4e6c6fef",
      "metadata": {
        "id": "4e6c6fef"
      },
      "outputs": [],
      "source": [
        "#ENTER YOUR CODE HERE"
      ]
    },
    {
      "cell_type": "code",
      "execution_count": 75,
      "id": "117956cb",
      "metadata": {
        "id": "117956cb"
      },
      "outputs": [],
      "source": [
        "df_new = pd.get_dummies(df_new , columns=['Platform'])"
      ]
    },
    {
      "cell_type": "markdown",
      "id": "5c7e8ba6",
      "metadata": {
        "id": "5c7e8ba6"
      },
      "source": [
        "Last categorical feature is our label column.\n",
        "\n",
        "**Import the module used for label encoding.**"
      ]
    },
    {
      "cell_type": "code",
      "execution_count": 76,
      "id": "88e0d9be",
      "metadata": {
        "id": "88e0d9be"
      },
      "outputs": [],
      "source": [
        "#ENTER YOUR CODE HERE\n",
        "\n",
        "from sklearn.preprocessing import LabelEncoder"
      ]
    },
    {
      "cell_type": "markdown",
      "id": "e02a0ece",
      "metadata": {
        "id": "e02a0ece"
      },
      "source": [
        "**Now label encode the column 'Dominant_Emotion'**"
      ]
    },
    {
      "cell_type": "code",
      "execution_count": 77,
      "id": "ecba97af",
      "metadata": {
        "id": "ecba97af",
        "outputId": "4f882d85-6f21-4191-eb3b-6b57de593b35",
        "colab": {
          "base_uri": "https://localhost:8080/"
        }
      },
      "outputs": [
        {
          "output_type": "stream",
          "name": "stdout",
          "text": [
            "['Anger' 'Anxiety' 'Boredom' 'Happiness' 'Neutral' 'Sadness']\n"
          ]
        }
      ],
      "source": [
        "#ENTER YOUR CODE HERE\n",
        "le = LabelEncoder()\n",
        "df_new['Dominant_Emotion'] = le.fit_transform(df_new['Dominant_Emotion'])\n",
        "print(le.classes_)"
      ]
    },
    {
      "cell_type": "code",
      "execution_count": 77,
      "id": "933767cc",
      "metadata": {
        "id": "933767cc"
      },
      "outputs": [],
      "source": []
    },
    {
      "cell_type": "markdown",
      "id": "806867c8",
      "metadata": {
        "id": "806867c8"
      },
      "source": [
        "Now we have only numerical data, phew! Lets start training!\n",
        "\n",
        "**Create the freatures dataframe and the labels dataframe as we had done before, and split them into train and test parts. Do you need to import the libraries again?**"
      ]
    },
    {
      "cell_type": "code",
      "execution_count": 78,
      "id": "fe5d5076",
      "metadata": {
        "id": "fe5d5076",
        "outputId": "d0a5e531-7de2-455a-e0cb-bc06c8635450",
        "colab": {
          "base_uri": "https://localhost:8080/"
        }
      },
      "outputs": [
        {
          "output_type": "stream",
          "name": "stdout",
          "text": [
            "(739, 16) (185, 16) (739,) (185,)\n"
          ]
        }
      ],
      "source": [
        "#ENTER YOUR CODE HERE\n",
        "X = df_new.drop('Dominant_Emotion', axis =1)\n",
        "Y= df_new['Dominant_Emotion']\n",
        "\n",
        "X_train , X_test , Y_train , Y_test = train_test_split(X ,Y , test_size = 0.2 , random_state = 42)\n",
        "\n",
        "print(X_train.shape , X_test.shape , Y_train.shape , Y_test.shape)"
      ]
    },
    {
      "cell_type": "code",
      "execution_count": 78,
      "id": "07a812ca",
      "metadata": {
        "id": "07a812ca"
      },
      "outputs": [],
      "source": []
    },
    {
      "cell_type": "markdown",
      "id": "c7f975fb",
      "metadata": {
        "id": "c7f975fb"
      },
      "source": [
        "**Import the module used for training a KNN model.**"
      ]
    },
    {
      "cell_type": "code",
      "execution_count": 79,
      "id": "6aca486b",
      "metadata": {
        "id": "6aca486b"
      },
      "outputs": [],
      "source": [
        "#ENTER YOUR CODE HERE\n",
        "from sklearn.neighbors import KNeighborsClassifier"
      ]
    },
    {
      "cell_type": "markdown",
      "id": "c3107a53",
      "metadata": {
        "id": "c3107a53"
      },
      "source": [
        "**Train your model.**"
      ]
    },
    {
      "cell_type": "code",
      "execution_count": 80,
      "id": "0d222848",
      "metadata": {
        "id": "0d222848"
      },
      "outputs": [],
      "source": [
        "#ENTER YOUR CODE HERE\n",
        "\n",
        "knn =  KNeighborsClassifier()\n",
        "knn.fit(X_train , Y_train)\n",
        "Y_pred = knn.predict(X_test)"
      ]
    },
    {
      "cell_type": "code",
      "execution_count": 80,
      "id": "4860ab5f",
      "metadata": {
        "id": "4860ab5f"
      },
      "outputs": [],
      "source": []
    },
    {
      "cell_type": "markdown",
      "id": "5f118ed1",
      "metadata": {
        "id": "5f118ed1"
      },
      "source": [
        "**Create and print the Prediction Dataframe.**"
      ]
    },
    {
      "cell_type": "code",
      "execution_count": 81,
      "id": "5d5ba9b5",
      "metadata": {
        "id": "5d5ba9b5",
        "outputId": "642848b9-d229-491e-fd2d-b7e348268eec",
        "colab": {
          "base_uri": "https://localhost:8080/"
        }
      },
      "outputs": [
        {
          "output_type": "stream",
          "name": "stdout",
          "text": [
            "     Actual  Predicted\n",
            "323       0          0\n",
            "861       0          0\n",
            "30        2          2\n",
            "837       3          3\n",
            "294       4          4\n"
          ]
        }
      ],
      "source": [
        "#ENTER YOUR CODE HERE\n",
        "prediction_df = pd.DataFrame({\n",
        "    'Actual': Y_test,\n",
        "    'Predicted': Y_pred\n",
        "})\n",
        "\n",
        "# Print the DataFrame\n",
        "print(prediction_df.head())"
      ]
    },
    {
      "cell_type": "code",
      "execution_count": 81,
      "id": "2432aec4",
      "metadata": {
        "id": "2432aec4"
      },
      "outputs": [],
      "source": []
    },
    {
      "cell_type": "markdown",
      "id": "689d81a6",
      "metadata": {
        "id": "689d81a6"
      },
      "source": [
        "I'm guessing you notice the issue. These are not our original labels!\n",
        "\n",
        "**Tranform these labels using the encoder you had created while encoding 'Dominant_Emotion'.**"
      ]
    },
    {
      "cell_type": "code",
      "execution_count": 82,
      "id": "93cd6d8f",
      "metadata": {
        "id": "93cd6d8f",
        "outputId": "08bd7f94-39cf-4194-ea47-60766de9771e",
        "colab": {
          "base_uri": "https://localhost:8080/"
        }
      },
      "outputs": [
        {
          "output_type": "stream",
          "name": "stdout",
          "text": [
            "      actual  predicted\n",
            "0      Anger      Anger\n",
            "1      Anger      Anger\n",
            "2    Boredom    Boredom\n",
            "3  Happiness  Happiness\n",
            "4    Neutral    Neutral\n"
          ]
        }
      ],
      "source": [
        "#ENTER YOUR CODE HERE\n",
        "Y_test = le.inverse_transform(Y_test)\n",
        "Y_pred = le.inverse_transform(Y_pred)\n",
        "\n",
        "prediction_df = pd.DataFrame({\n",
        "    'actual': Y_test,\n",
        "    'predicted': Y_pred\n",
        "})\n",
        "print(prediction_df.head())\n"
      ]
    },
    {
      "cell_type": "code",
      "source": [
        "from sklearn.metrics import classification_report, accuracy_score\n"
      ],
      "metadata": {
        "id": "DNMn9AZ04n76"
      },
      "id": "DNMn9AZ04n76",
      "execution_count": 83,
      "outputs": []
    },
    {
      "cell_type": "code",
      "execution_count": 83,
      "id": "4479f70f",
      "metadata": {
        "id": "4479f70f"
      },
      "outputs": [],
      "source": []
    },
    {
      "cell_type": "markdown",
      "id": "a7f07660",
      "metadata": {
        "id": "a7f07660"
      },
      "source": [
        "**Now print the relevant metrics! Don't forget to get original y_test first!**"
      ]
    },
    {
      "cell_type": "code",
      "execution_count": 84,
      "id": "72f8f643",
      "metadata": {
        "id": "72f8f643"
      },
      "outputs": [],
      "source": [
        "#ENTER YOUR CODE HERE"
      ]
    },
    {
      "cell_type": "code",
      "execution_count": 85,
      "id": "ea421ae9",
      "metadata": {
        "colab": {
          "base_uri": "https://localhost:8080/"
        },
        "id": "ea421ae9",
        "outputId": "5c8c00c2-39fd-4ab0-a682-4c18871d77cc"
      },
      "outputs": [
        {
          "output_type": "stream",
          "name": "stdout",
          "text": [
            "Accuracy: 0.9891891891891892\n"
          ]
        }
      ],
      "source": [
        "\n",
        "print(\"Accuracy:\", accuracy_score(Y_test, Y_pred))\n"
      ]
    },
    {
      "cell_type": "code",
      "source": [],
      "metadata": {
        "id": "Gh3BjETJagus"
      },
      "id": "Gh3BjETJagus",
      "execution_count": 85,
      "outputs": []
    },
    {
      "cell_type": "markdown",
      "id": "0d960f22",
      "metadata": {
        "id": "0d960f22"
      },
      "source": [
        "**That's a good model!**\n",
        "\n",
        "Since it's multi-class classification, traditional metrics like precision and recall won't work. We'll judge our model using a confusion matrix and classification report!\n",
        "\n",
        "**Import the module for confusion matrix and classification report, and print them.**"
      ]
    },
    {
      "cell_type": "code",
      "execution_count": 86,
      "id": "4c830ac8",
      "metadata": {
        "id": "4c830ac8"
      },
      "outputs": [],
      "source": [
        "#ENTER YOUR CODE HERE"
      ]
    },
    {
      "cell_type": "code",
      "execution_count": 87,
      "id": "690eb85f",
      "metadata": {
        "colab": {
          "base_uri": "https://localhost:8080/"
        },
        "id": "690eb85f",
        "outputId": "cba1fcbe-efb9-4ece-b518-be992767dddd"
      },
      "outputs": [
        {
          "output_type": "stream",
          "name": "stdout",
          "text": [
            "Classification Report:\n",
            "               precision    recall  f1-score   support\n",
            "\n",
            "       Anger       1.00      1.00      1.00        29\n",
            "     Anxiety       0.97      0.97      0.97        35\n",
            "     Boredom       0.95      1.00      0.97        18\n",
            "   Happiness       1.00      0.98      0.99        43\n",
            "     Neutral       1.00      1.00      1.00        35\n",
            "     Sadness       1.00      1.00      1.00        25\n",
            "\n",
            "    accuracy                           0.99       185\n",
            "   macro avg       0.99      0.99      0.99       185\n",
            "weighted avg       0.99      0.99      0.99       185\n",
            "\n",
            "Confusion Matrix:\n",
            " [[29  0  0  0  0  0]\n",
            " [ 0 34  1  0  0  0]\n",
            " [ 0  0 18  0  0  0]\n",
            " [ 0  1  0 42  0  0]\n",
            " [ 0  0  0  0 35  0]\n",
            " [ 0  0  0  0  0 25]]\n"
          ]
        }
      ],
      "source": [
        "from sklearn.metrics import confusion_matrix\n",
        "print(\"Classification Report:\\n\" , classification_report(Y_test, Y_pred, target_names=le.classes_))\n",
        "\n",
        "print(\"Confusion Matrix:\\n\", confusion_matrix(Y_test, Y_pred))"
      ]
    },
    {
      "cell_type": "markdown",
      "id": "32c6beaa",
      "metadata": {
        "id": "32c6beaa"
      },
      "source": [
        "We already have our training and test datasets ready, lets train some other models.\n",
        "\n",
        "**Import Naive Bayes**"
      ]
    },
    {
      "cell_type": "code",
      "execution_count": 88,
      "id": "435cfa40",
      "metadata": {
        "id": "435cfa40"
      },
      "outputs": [],
      "source": [
        "#ENTER YOUR CODE HERE\n",
        "# from sklearn.naive_bayes import GaussianNB\n",
        "from sklearn.naive_bayes import MultinomialNB"
      ]
    },
    {
      "cell_type": "markdown",
      "id": "7fc1b376",
      "metadata": {
        "id": "7fc1b376"
      },
      "source": [
        "**Now instantiate and fit a model.**"
      ]
    },
    {
      "cell_type": "code",
      "execution_count": 89,
      "id": "83e4e7f0",
      "metadata": {
        "id": "83e4e7f0"
      },
      "outputs": [],
      "source": [
        "#ENTER YOUR CODE HERE\n",
        "nb = MultinomialNB()\n",
        "nb.fit(X_train , Y_train)\n",
        "Y_pred_nb = nb.predict(X_test)"
      ]
    },
    {
      "cell_type": "code",
      "execution_count": 89,
      "id": "bd78b2d4",
      "metadata": {
        "id": "bd78b2d4"
      },
      "outputs": [],
      "source": []
    },
    {
      "cell_type": "markdown",
      "id": "a5b28149",
      "metadata": {
        "id": "a5b28149"
      },
      "source": [
        "**Predict on the test features, and dont forget to inverse transform!**"
      ]
    },
    {
      "cell_type": "code",
      "execution_count": 90,
      "id": "b087b88d",
      "metadata": {
        "id": "b087b88d",
        "colab": {
          "base_uri": "https://localhost:8080/"
        },
        "outputId": "efbe65af-faf4-4875-8799-3895055ffc76"
      },
      "outputs": [
        {
          "output_type": "stream",
          "name": "stdout",
          "text": [
            "      actual  predicted\n",
            "0      Anger    Neutral\n",
            "1      Anger      Anger\n",
            "2    Boredom    Boredom\n",
            "3  Happiness  Happiness\n",
            "4    Neutral    Sadness\n"
          ]
        }
      ],
      "source": [
        "#ENTER YOUR CODE HERE\n",
        "# Y_test_nb = le.inverse_transform(Y_test)\n",
        "# X_test_nb  = le.inverse_transform(Y_pred_nb)\n",
        "Y_pred_nb = le.inverse_transform(Y_pred_nb)\n",
        "predict_nb = pd.DataFrame({\n",
        "    'actual':Y_test,\n",
        "    'predicted': Y_pred_nb\n",
        "}\n",
        ")\n",
        "print(predict_nb.head())"
      ]
    },
    {
      "cell_type": "markdown",
      "id": "fafa80dc",
      "metadata": {
        "id": "fafa80dc"
      },
      "source": [
        "**Finally, print the accuracy, confusion matrix and classification report.**"
      ]
    },
    {
      "cell_type": "code",
      "execution_count": 91,
      "id": "398f1052",
      "metadata": {
        "id": "398f1052",
        "colab": {
          "base_uri": "https://localhost:8080/"
        },
        "outputId": "db04f878-7e21-4c63-e6f1-af1d0e512a8e"
      },
      "outputs": [
        {
          "output_type": "stream",
          "name": "stdout",
          "text": [
            "accuracy : 0.4648648648648649\n",
            "classification report:               precision    recall  f1-score   support\n",
            "\n",
            "       Anger       0.41      0.66      0.51        29\n",
            "     Anxiety       0.83      0.14      0.24        35\n",
            "     Boredom       0.35      0.72      0.47        18\n",
            "   Happiness       0.66      0.86      0.75        43\n",
            "     Neutral       0.34      0.29      0.31        35\n",
            "     Sadness       0.18      0.08      0.11        25\n",
            "\n",
            "    accuracy                           0.46       185\n",
            "   macro avg       0.46      0.46      0.40       185\n",
            "weighted avg       0.50      0.46      0.42       185\n",
            "\n",
            "confusion matrix: [[19  1  0  3  6  0]\n",
            " [ 5  5  6 11  6  2]\n",
            " [ 3  0 13  0  2  0]\n",
            " [ 5  0  0 37  0  1]\n",
            " [ 4  0 11  4 10  6]\n",
            " [10  0  7  1  5  2]]\n"
          ]
        }
      ],
      "source": [
        "#ENTER YOUR CODE HERE\n",
        "print(\"accuracy :\" , accuracy_score(Y_test , Y_pred_nb))\n",
        "print(\"classification report:\" , classification_report(Y_test , Y_pred_nb))\n",
        "print(\"confusion matrix:\" , confusion_matrix(Y_test , Y_pred_nb))"
      ]
    },
    {
      "cell_type": "markdown",
      "source": [
        "Random forest\n"
      ],
      "metadata": {
        "id": "6AQGLOzt1E0-"
      },
      "id": "6AQGLOzt1E0-"
    },
    {
      "cell_type": "code",
      "source": [
        "from sklearn.ensemble import RandomForestClassifier\n",
        "\n",
        "rf = RandomForestClassifier()\n",
        "rf.fit(X_train, Y_train)\n",
        "Y_pred_rf = rf.predict(X_test)\n",
        "Y_pred_rf = le.inverse_transform(Y_pred_rf)\n",
        "predict_rf = pd.DataFrame({\n",
        "    'actual':Y_test,\n",
        "    'predicted': Y_pred_rf\n",
        "}\n",
        ")\n",
        "print(predict_rf.head())\n",
        "\n",
        "print(\"\\naccuracy:\", accuracy_score(Y_test, Y_pred_rf))\n",
        "print(\"classification report:\\n\", classification_report(Y_test, Y_pred_rf))\n",
        "print(\"confusion matrix:\\n\", confusion_matrix(Y_test, Y_pred_rf))"
      ],
      "metadata": {
        "colab": {
          "base_uri": "https://localhost:8080/"
        },
        "id": "3or2tS_-2kLx",
        "outputId": "16176e42-0390-4483-dba3-74f094cf00d2"
      },
      "id": "3or2tS_-2kLx",
      "execution_count": 92,
      "outputs": [
        {
          "output_type": "stream",
          "name": "stdout",
          "text": [
            "      actual  predicted\n",
            "0      Anger      Anger\n",
            "1      Anger      Anger\n",
            "2    Boredom    Boredom\n",
            "3  Happiness  Happiness\n",
            "4    Neutral    Neutral\n",
            "\n",
            "accuracy: 0.9891891891891892\n",
            "classification report:\n",
            "               precision    recall  f1-score   support\n",
            "\n",
            "       Anger       1.00      1.00      1.00        29\n",
            "     Anxiety       1.00      1.00      1.00        35\n",
            "     Boredom       1.00      0.94      0.97        18\n",
            "   Happiness       1.00      0.98      0.99        43\n",
            "     Neutral       0.97      1.00      0.99        35\n",
            "     Sadness       0.96      1.00      0.98        25\n",
            "\n",
            "    accuracy                           0.99       185\n",
            "   macro avg       0.99      0.99      0.99       185\n",
            "weighted avg       0.99      0.99      0.99       185\n",
            "\n",
            "confusion matrix:\n",
            " [[29  0  0  0  0  0]\n",
            " [ 0 35  0  0  0  0]\n",
            " [ 0  0 17  0  0  1]\n",
            " [ 0  0  0 42  1  0]\n",
            " [ 0  0  0  0 35  0]\n",
            " [ 0  0  0  0  0 25]]\n"
          ]
        }
      ]
    },
    {
      "cell_type": "markdown",
      "source": [
        "Decision Tree"
      ],
      "metadata": {
        "id": "7go5u1Zg2ZpV"
      },
      "id": "7go5u1Zg2ZpV"
    },
    {
      "cell_type": "code",
      "source": [
        "from sklearn.tree import DecisionTreeClassifier\n",
        "\n",
        "dt = DecisionTreeClassifier()\n",
        "dt.fit(X_train, Y_train)\n",
        "Y_pred_dt = dt.predict(X_test)\n",
        "Y_pred_dt = le.inverse_transform(Y_pred_dt)\n",
        "\n",
        "\n",
        "print(\"\\naccuracy:\", accuracy_score(Y_test, Y_pred_dt))\n",
        "print(\"classification report:\\n\", classification_report(Y_test, Y_pred_dt))\n",
        "print(\"confusion matrix:\\n\", confusion_matrix(Y_test, Y_pred_dt))"
      ],
      "metadata": {
        "colab": {
          "base_uri": "https://localhost:8080/"
        },
        "id": "TDagVxr72doc",
        "outputId": "0cdf3902-05fd-414a-bf43-e3bd9d35e403"
      },
      "id": "TDagVxr72doc",
      "execution_count": 93,
      "outputs": [
        {
          "output_type": "stream",
          "name": "stdout",
          "text": [
            "\n",
            "accuracy: 0.9513513513513514\n",
            "classification report:\n",
            "               precision    recall  f1-score   support\n",
            "\n",
            "       Anger       0.94      1.00      0.97        29\n",
            "     Anxiety       0.92      0.94      0.93        35\n",
            "     Boredom       0.94      0.89      0.91        18\n",
            "   Happiness       1.00      0.98      0.99        43\n",
            "     Neutral       0.94      0.97      0.96        35\n",
            "     Sadness       0.96      0.88      0.92        25\n",
            "\n",
            "    accuracy                           0.95       185\n",
            "   macro avg       0.95      0.94      0.95       185\n",
            "weighted avg       0.95      0.95      0.95       185\n",
            "\n",
            "confusion matrix:\n",
            " [[29  0  0  0  0  0]\n",
            " [ 0 33  1  0  1  0]\n",
            " [ 0  1 16  0  0  1]\n",
            " [ 0  1  0 42  0  0]\n",
            " [ 1  0  0  0 34  0]\n",
            " [ 1  1  0  0  1 22]]\n"
          ]
        }
      ]
    },
    {
      "cell_type": "code",
      "execution_count": 93,
      "id": "1d638968",
      "metadata": {
        "id": "1d638968"
      },
      "outputs": [],
      "source": []
    },
    {
      "cell_type": "markdown",
      "id": "99c1fdc4",
      "metadata": {
        "id": "99c1fdc4"
      },
      "source": [
        "# GOOD JOB!"
      ]
    },
    {
      "cell_type": "markdown",
      "id": "8a63a552",
      "metadata": {
        "id": "8a63a552"
      },
      "source": [
        "#Artificial Neural Network Assignment\n",
        "###In this assignment you will be implementing various functions from scratch so as to learn how it functions before going on to use various libraries. Doing it honestly will help you a lot in you understanding of the topic. If you encounter difficulties or stuck somewhere go online and search, the possibility that you are encountering the problem first time in 8 billion people is very slim so mostly you will be able to find the solution. Happy learning! 😀"
      ]
    },
    {
      "cell_type": "code",
      "execution_count": 94,
      "id": "f677499d",
      "metadata": {
        "id": "f677499d"
      },
      "outputs": [],
      "source": [
        "import pandas as pd\n",
        "import numpy as np\n",
        "from matplotlib import pyplot as plt\n",
        "import seaborn as sns"
      ]
    },
    {
      "cell_type": "code",
      "source": [
        "from sklearn.datasets import fetch_openml\n",
        "import pandas as pd\n",
        "from sklearn.model_selection import train_test_split\n",
        "\n",
        "mnist = fetch_openml('mnist_784', version=1, as_frame=False)\n",
        "\n",
        "X = mnist['data']\n",
        "y = mnist['target'].astype('int')\n",
        "\n",
        "\n",
        "X_train, X_test, y_train, y_test = train_test_split(X, y, test_size=0.1, random_state=42)\n",
        "\n",
        "\n",
        "train_df = pd.DataFrame(X_train)\n",
        "train_df.insert(0, 'label', y_train)\n",
        "\n",
        "test_df = pd.DataFrame(X_test)\n",
        "test_df.insert(0, 'label', y_test)\n",
        "\n",
        "# Save to CSV files\n",
        "train_df.to_csv('mnist_train.csv', index=False)\n",
        "test_df.to_csv('mnist_test.csv', index=False)\n",
        "\n",
        "\n"
      ],
      "metadata": {
        "id": "KOi9bSGwkKyb"
      },
      "id": "KOi9bSGwkKyb",
      "execution_count": 95,
      "outputs": []
    },
    {
      "cell_type": "code",
      "execution_count": 96,
      "id": "5a8a944e",
      "metadata": {
        "id": "5a8a944e"
      },
      "outputs": [],
      "source": [
        "test = pd.read_csv('mnist_test.csv')\n",
        "train = pd.read_csv('mnist_train.csv')"
      ]
    },
    {
      "cell_type": "code",
      "execution_count": 97,
      "id": "5e873d9d",
      "metadata": {
        "colab": {
          "base_uri": "https://localhost:8080/"
        },
        "id": "5e873d9d",
        "outputId": "49831726-b299-4530-8a9b-4b7f0013c849"
      },
      "outputs": [
        {
          "output_type": "stream",
          "name": "stdout",
          "text": [
            "     0      1      2      3      4      5      6      7      8      9      \\\n",
            "0      0.0    0.0    0.0    0.0    0.0    0.0    0.0    0.0    0.0    0.0   \n",
            "1      0.0    0.0    0.0    0.0    0.0    0.0    0.0    0.0    0.0    0.0   \n",
            "2      0.0    0.0    0.0    0.0    0.0    0.0    0.0    0.0    0.0    0.0   \n",
            "3      0.0    0.0    0.0    0.0    0.0    0.0    0.0    0.0    0.0    0.0   \n",
            "4      0.0    0.0    0.0    0.0    0.0    0.0    0.0    0.0    0.0    0.0   \n",
            "..     ...    ...    ...    ...    ...    ...    ...    ...    ...    ...   \n",
            "779    0.0    0.0    0.0    0.0    0.0    0.0    0.0    0.0    0.0    0.0   \n",
            "780    0.0    0.0    0.0    0.0    0.0    0.0    0.0    0.0    0.0    0.0   \n",
            "781    0.0    0.0    0.0    0.0    0.0    0.0    0.0    0.0    0.0    0.0   \n",
            "782    0.0    0.0    0.0    0.0    0.0    0.0    0.0    0.0    0.0    0.0   \n",
            "783    0.0    0.0    0.0    0.0    0.0    0.0    0.0    0.0    0.0    0.0   \n",
            "\n",
            "     ...  62990  62991  62992  62993  62994  62995  62996  62997  62998  62999  \n",
            "0    ...    0.0    0.0    0.0    0.0    0.0    0.0    0.0    0.0    0.0    0.0  \n",
            "1    ...    0.0    0.0    0.0    0.0    0.0    0.0    0.0    0.0    0.0    0.0  \n",
            "2    ...    0.0    0.0    0.0    0.0    0.0    0.0    0.0    0.0    0.0    0.0  \n",
            "3    ...    0.0    0.0    0.0    0.0    0.0    0.0    0.0    0.0    0.0    0.0  \n",
            "4    ...    0.0    0.0    0.0    0.0    0.0    0.0    0.0    0.0    0.0    0.0  \n",
            "..   ...    ...    ...    ...    ...    ...    ...    ...    ...    ...    ...  \n",
            "779  ...    0.0    0.0    0.0    0.0    0.0    0.0    0.0    0.0    0.0    0.0  \n",
            "780  ...    0.0    0.0    0.0    0.0    0.0    0.0    0.0    0.0    0.0    0.0  \n",
            "781  ...    0.0    0.0    0.0    0.0    0.0    0.0    0.0    0.0    0.0    0.0  \n",
            "782  ...    0.0    0.0    0.0    0.0    0.0    0.0    0.0    0.0    0.0    0.0  \n",
            "783  ...    0.0    0.0    0.0    0.0    0.0    0.0    0.0    0.0    0.0    0.0  \n",
            "\n",
            "[784 rows x 63000 columns]\n",
            "0        8\n",
            "1        7\n",
            "2        6\n",
            "3        5\n",
            "4        4\n",
            "        ..\n",
            "62995    6\n",
            "62996    6\n",
            "62997    1\n",
            "62998    0\n",
            "62999    0\n",
            "Name: label, Length: 63000, dtype: int64\n"
          ]
        }
      ],
      "source": [
        "x_train = train.drop('label', axis=1)\n",
        "x_train = x_train.T\n",
        "x_train = x_train/255\n",
        "y_train = train.label\n",
        "\n",
        "x_test = test.drop('label',axis=1)\n",
        "x_test = x_test.T\n",
        "y_test = test.label\n",
        "print(x_train)\n",
        "print(y_train)"
      ]
    },
    {
      "cell_type": "code",
      "execution_count": 98,
      "id": "42b29c92",
      "metadata": {
        "colab": {
          "base_uri": "https://localhost:8080/",
          "height": 455
        },
        "id": "42b29c92",
        "outputId": "4f953e2d-a924-4991-dd3b-53a80425c36e"
      },
      "outputs": [
        {
          "output_type": "display_data",
          "data": {
            "text/plain": [
              "<Figure size 1000x1500 with 10 Axes>"
            ],
            "image/png": "[encoded data removed]"
          },
          "metadata": {}
        }
      ],
      "source": [
        "X_train_reshaped = x_train.T.values.reshape(-1, 28, 28)\n",
        "plt.figure(figsize=(10, 15))\n",
        "for i in range(10):\n",
        "    plt.subplot(5, 5, i+1)\n",
        "    plt.grid(False)\n",
        "    plt.imshow(X_train_reshaped[i])\n",
        "    plt.xlabel(str(y_train[i]))"
      ]
    },
    {
      "cell_type": "markdown",
      "id": "cedea7ba",
      "metadata": {
        "id": "cedea7ba"
      },
      "source": [
        "The remainder on dividing your roll number by 4 will dictate which function you have to complete but ofcourse if you wish to do more and there's no stopping you.\\\n",
        "Roll_number % 6  \n",
        "                  0:RELU\\\n",
        "                  1:softmax\\\n",
        "                  2:forward_propogation\\\n",
        "                  3:one_hot_encode\\\n",
        "                  4:total_loss\\\n",
        "                  5:backward_propagation"
      ]
    },
    {
      "cell_type": "code",
      "source": [
        "class ANN:\n",
        "  def __init__(self, input_size, output_size, learning_rate, num_layers, num_of_nodes_layers):\n",
        "    self.input_size = input_size\n",
        "    self.output_size = output_size\n",
        "    self.learning_rate = learning_rate\n",
        "    self.num_layers = num_layers\n",
        "    self.num_of_nodes_layers = num_of_nodes_layers\n",
        "    self.weights_biases = {}\n",
        "    self.activations = {}\n",
        "\n",
        "  def initial_params(self):\n",
        "    np.random.seed(20)\n",
        "    self.weights_biases['W1'] = np.random.rand(self.num_of_nodes_layers, self.input_size) - 0.5\n",
        "    self.weights_biases['b1'] = np.random.rand(self.num_of_nodes_layers, 1) - 0.5\n",
        "\n",
        "    for i in range(2, self.num_layers + 1):\n",
        "      self.weights_biases[f'W{i}'] = np.random.rand(self.num_of_nodes_layers, self.num_of_nodes_layers) - 0.5\n",
        "      self.weights_biases[f'b{i}'] = np.random.rand(self.num_of_nodes_layers, 1) - 0.5\n",
        "\n",
        "    self.weights_biases[f'W{self.num_layers + 1}'] = np.random.rand(self.output_size, self.num_of_nodes_layers) - 0.5\n",
        "    self.weights_biases[f'b{self.num_layers + 1}'] = np.random.rand(self.output_size, 1) - 0.5\n",
        "\n",
        "  def RELU(self, Z):\n",
        "    # Implement the RELU activation function\n",
        "    return np.maximum(0,Z)\n",
        "    pass\n",
        "\n",
        "  def softmax(self, Z):\n",
        "    # Implement the softmax activation function\n",
        "    exp_Z = np.exp(Z - np.max(Z, axis=0, keepdims=True))\n",
        "    return exp_Z / np.sum(exp_Z, axis=0, keepdims=True)\n",
        "\n",
        "    pass\n",
        "\n",
        "  def forward_propagation(self, X):\n",
        "    # Implement the forward_propagation function\n",
        "    self.activations[\"A0\"] = X\n",
        "    A = X\n",
        "    for i in range(1, self.num_layers + 1):\n",
        "        Z = np.dot(self.weights_biases[f\"W{i}\"], A) + self.weights_biases[f\"b{i}\"]\n",
        "        A = self.RELU(Z)\n",
        "        self.activations[f\"Z{i}\"] = Z\n",
        "        self.activations[f\"A{i}\"] = A\n",
        "\n",
        "    Z_last = np.dot(self.weights_biases[f\"W{self.num_layers + 1}\"], A) + self.weights_biases[f\"b{self.num_layers + 1}\"]\n",
        "    A_last = self.softmax(Z_last)\n",
        "\n",
        "    self.activations[f\"Z{self.num_layers + 1}\"] = Z_last\n",
        "    self.activations[f\"A{self.num_layers + 1}\"] = A_last\n",
        "\n",
        "    return A_last, self.activations\n",
        "    pass\n",
        "  def one_hot_encode(self, y):\n",
        "    # Implement one hot encoding\n",
        "     classes = self.output_size\n",
        "     m = y.shape[0]\n",
        "     one_hot = np.zeros((classes, m))\n",
        "     one_hot[y, np.arange(m)] = 1\n",
        "     return one_hot\n",
        "     pass\n",
        "\n",
        "  def total_loss(self, y_pred, Y):\n",
        "    # Implement the total loss function\n",
        "    pass\n",
        "\n",
        "  def backward_prop(self, y_pred, Y):\n",
        "    #Implement the backward_prop function\n",
        "     gradients = {}\n",
        "     m = Y.shape[1]\n",
        "     dZ = y_pred - Y\n",
        "\n",
        "     for i in reversed(range(1, self.num_layers + 2)):\n",
        "        A_prev = self.activations[f\"A{i-1}\"]\n",
        "        Z_prev = self.activations.get(f\"Z{i-1}\", None)\n",
        "        W = self.weights_biases[f\"W{i}\"]\n",
        "\n",
        "\n",
        "        gradients[f\"dW{i}\"] = (1 / m) * np.dot(dZ, A_prev.T)\n",
        "        gradients[f\"db{i}\"] = (1 / m) * np.sum(dZ, axis=1, keepdims=True)\n",
        "\n",
        "        if i > 1:\n",
        "            dA_prev = np.dot(W.T, dZ)\n",
        "            dZ = np.where(Z_prev > 0, dA_prev, 0)\n",
        "\n",
        "     return gradients\n",
        "\n",
        "     pass\n",
        "\n",
        "  def update_params(self,gradients):\n",
        "\n",
        "    for i in range(1, self.num_layers + 2):\n",
        "     self.weights_biases[f\"W{i}\"] -= self.learning_rate * gradients[f\"dW{i}\"]\n",
        "     self.weights_biases[f\"b{i}\"] -= self.learning_rate * gradients[f\"db{i}\"]\n",
        "\n",
        "  def train(self, X, y, num_iterations):\n",
        "\n",
        "    #implement train\n",
        "    Y = self.one_hot_encode(y.values if isinstance(y, pd.Series) else y)\n",
        "\n",
        "    for i in range(num_iterations):\n",
        "        y_pred, _ = self.forward_propagation(X)\n",
        "        gradients = self.backward_prop(y_pred, Y)\n",
        "        self.update_params(gradients)\n",
        "\n",
        "        # if i % 500 == 0:\n",
        "          # print(f\"Iteration {i} completed.\")\n",
        "    pass\n",
        "\n",
        "  def predict(self, X):\n",
        "        b = {}\n",
        "\n",
        "        A,b = self.forward_propagation(X)\n",
        "        predictions = np.argmax(A, axis=0)\n",
        "\n",
        "\n",
        "        return predictions\n"
      ],
      "metadata": {
        "id": "HOEUOVfELB-H"
      },
      "id": "HOEUOVfELB-H",
      "execution_count": 99,
      "outputs": []
    },
    {
      "cell_type": "code",
      "source": [
        "model = ANN(input_size=784, output_size=10, learning_rate=0.2, num_layers=3, num_of_nodes_layers=64)\n",
        "model.initial_params()\n",
        "model.train(x_train.values, y_train.values, num_iterations=700)"
      ],
      "metadata": {
        "id": "Iz4nP5fSylEw"
      },
      "id": "Iz4nP5fSylEw",
      "execution_count": 100,
      "outputs": []
    },
    {
      "cell_type": "code",
      "execution_count": 101,
      "id": "674e838c",
      "metadata": {
        "colab": {
          "base_uri": "https://localhost:8080/"
        },
        "id": "674e838c",
        "outputId": "038e55de-1e4a-4062-cc24-068ab7301615"
      },
      "outputs": [
        {
          "metadata": {
            "tags": null
          },
          "name": "stdout",
          "output_type": "stream",
          "text": [
            "Accuracy: 89.60000000000001 %\n"
          ]
        }
      ],
      "source": [
        "m = model.predict(x_test)\n",
        "b = m.shape\n",
        "c = int(b[0])\n",
        "d = np.array(y_test)\n",
        "d = d.T\n",
        "t=0\n",
        "for i in range(c):\n",
        "    if(m[i]==d[i]):\n",
        "        t=t+1\n",
        "print('Accuracy:',t/c *100, '%')\n",
        "\n",
        "\n"
      ]
    },
    {
      "cell_type": "code",
      "execution_count": 102,
      "id": "03d393c1",
      "metadata": {
        "colab": {
          "base_uri": "https://localhost:8080/",
          "height": 483
        },
        "id": "03d393c1",
        "outputId": "0a3968e7-856a-47b8-9fb5-efb9ce9803d6"
      },
      "outputs": [
        {
          "metadata": {
            "tags": null
          },
          "name": "stdout",
          "output_type": "stream",
          "text": [
            "4\n"
          ]
        },
        {
          "data": {
            "image/png": "[encoded data removed]",
            "text/plain": [
              "<Figure size 500x500 with 1 Axes>"
            ]
          },
          "metadata": {},
          "output_type": "display_data"
        }
      ],
      "source": [
        "X_test_reshaped = x_test.T.values.reshape(-1, 28, 28)\n",
        "plt.figure(figsize=(5, 5))\n",
        "i = 500\n",
        "print(d[i])\n",
        "plt.imshow(X_test_reshaped[i])\n",
        "plt.xlabel(m[i]);\n"
      ]
    }
  ],
  "metadata": {
    "colab": {
      "provenance": []
    },
    "language_info": {
      "name": "python"
    },
    "kernelspec": {
      "name": "python3",
      "display_name": "Python 3"
    }
  },
  "nbformat": 4,
  "nbformat_minor": 5
}